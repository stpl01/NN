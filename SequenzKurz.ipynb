{
 "cells": [
  {
   "cell_type": "markdown",
   "metadata": {},
   "source": [
    "<div class=\"alert alert-block alert-danger\"> \n",
    "    \n",
    "# Modell des Neurons"
   ]
  },
  {
   "cell_type": "markdown",
   "metadata": {},
   "source": [
    "<div class=\"alert alert-block alert-danger\">\n",
    "\n",
    "Zwei Personen sind entweder anwesend oder nicht. Die Anwesenheiten (Eingänge) der ersten Person wird mit $x_1 \\in \\{0, 1\\}$ bezeichnet, die Anwesenheit der zweiten Person wird mit $x_2 \\in \\{0,1\\}$ bezeichnet.\n",
    "\n",
    "Die $\\mathbf{Eingangsgewichte}$ sind $w_1 = 1$ und $w_2 = 1$. Sie lassen sich verstehen als eine bisherige relative Häufigkeit oder interpretiert als eine Wahrscheinlicht, mit der sich eine Person sich in einem bestimmten Zustand (der Anwesenheit) befindet.\n",
    "\n",
    "Es ist zu entscheiden, wann einem Eingang welcher Wert zugeordnet wird. Dazu ist die Summe\n",
    "$$\n",
    "\\Sigma = w_1 \\cdot x_1 + w_2 \\cdot x_2 = x_1 + x_2\n",
    "$$\n",
    "zu berechnen.\n",
    "\n",
    "Betrachtet man die Situation des Beispiels, so ist ein gewünschter Zustand erreicht, wenn $\\Sigma \\geq 1=: \\phi$ gilt. (Wobei $\\phi$ unterschiedliche Werte annehmen kann, wie sich in den nächsten Beispielen zeigt.) Dazu bilden wir die Funktion $f$ über $\\mathbb{R}$ mit\n",
    "$$\n",
    "f(\\Sigma) = \\left\\{ \\begin{array}{cl} 0 & \\mbox{für } \\Sigma < 1 \\\\ 1 & \\mbox{für } \\Sigma \\geq 1 \\end{array}\\right.\n",
    "$$\n",
    "Trägt man die entsprechenden Werte in eine Tabelle ein, so ergibt sich:\n",
    "$$\n",
    "\\begin{array}{c|c|c|c}\n",
    "x_1 & x_2 & \\Sigma & f(\\Sigma)\n",
    "\\\\\n",
    "\\hline\n",
    "0 & 0 & 0 & 0\n",
    "\\\\\n",
    "0 & 1 & 1 & 1\n",
    "\\\\\n",
    "1 & 0 & 1 & 1\n",
    "\\\\\n",
    "1 & 1 & 2 & 1\n",
    "\\end{array}\n",
    "$$\n",
    "Nimmt man an, dass die Wahrscheinlichkeiten bestimmter Zustände $w_1 = \\frac{2}{3}$ und $w_2 = \\frac{1}{2}$ sind, gilt\n",
    "$$\n",
    "\\Sigma = w_1 \\cdot x_1 + w_2 \\cdot x_2 = \\frac{2}{3} \\cdot x_1 + \\frac{1}{2} \\cdot x_2\\, .\n",
    "$$\n",
    "Hierfür gilt:\n",
    "$$\n",
    "\\begin{array}{c|c|c|c}\n",
    "x_1 & x_2 & \\Sigma & f(\\Sigma)\n",
    "\\\\\n",
    "\\hline\n",
    "0 & 0 & 0 & 0\n",
    "\\\\\n",
    "0 & 1 & \\frac{1}{2} & 0\n",
    "\\\\\n",
    "1 & 0 & \\frac{2}{3} & 0\n",
    "\\\\\n",
    "1 & 1 & \\frac{7}{6} & 1\n",
    "\\end{array}\n",
    "$$\n",
    "Bisher wurde die Schwelle der Veränderung von $f(\\Sigma)$ auf $\\phi=1$ gelegt, d.h. $f(\\Sigma) = \\left\\{ \\begin{array}{cl} 0 & \\mbox{für } \\Sigma < 1 \\\\ 1 & \\mbox{für } \\Sigma \\geq 1 \\end{array}\\right.$. Die Ergebnisse verändern sich jedoch, wenn man den $\\mathbf{Schwellenwert}$ $\\phi$ anders legt. Setzt man beispielsweise $\\phi = \\frac{2}{3}$, so gilt für $f$ \n",
    "$$\n",
    "f(\\Sigma) = \\left\\{ \\begin{array}{cl} 0 & \\mbox{für } \\Sigma < \\phi = \\frac{2}{3} \\\\ 1 & \\mbox{für } \\Sigma \\geq \\phi = \\frac{2}{3}\\end{array}\\right.\\, .\n",
    "$$\n",
    "Damit ergibt sich\n",
    "$$\n",
    "\\begin{array}{c|c|c|c}\n",
    "x_1 & x_2 & \\Sigma & f(\\Sigma)\n",
    "\\\\\n",
    "\\hline\n",
    "0 & 0 & 0 & 0\n",
    "\\\\\n",
    "0 & 1 & \\frac{1}{2} & 0\n",
    "\\\\\n",
    "1 & 0 & \\frac{2}{3} & 1\n",
    "\\\\\n",
    "1 & 1 & \\frac{7}{6} & 1\n",
    "\\end{array}\n",
    "$$\n",
    "Mithilfe dieser Schwelle lässt sich das Ergebnis beeinflussen."
   ]
  },
  {
   "cell_type": "markdown",
   "metadata": {},
   "source": [
    "<div class=\"alert alert-block alert-warning\">\n",
    "\n",
    "### Aufgabe 1\n",
    "Durch Veränderungen in den unterschiedlichen Parametern verändern sich vereinzelt sprunghaft die Werte $f(\\Sigma)$. Verändere in obigem Beispiel für den Fall des konstanten $\\phi = \\frac{2}{3}$ die Werte von $w_1$ und $w_2$. Interpretiere die Ergebnisse in Bezug auf die Anwesenheit von Personen an einem Ort."
   ]
  },
  {
   "cell_type": "markdown",
   "metadata": {},
   "source": [
    "<div class=\"alert alert-block alert-danger\">\n",
    "\n",
    "Die oben beobachteten Sprünge lassen sich mit einem Funktionsgraphen der dort definierten Funktion $f$ veranschaulichen. Dies machen wir jetzt mit Python."
   ]
  },
  {
   "cell_type": "code",
   "execution_count": 3,
   "metadata": {},
   "outputs": [],
   "source": [
    "def fkt(Sigma,phi):\n",
    "    if Sigma > phi:\n",
    "        return 1\n",
    "    else:\n",
    "        return 0"
   ]
  },
  {
   "cell_type": "markdown",
   "metadata": {},
   "source": [
    "<div class=\"alert alert-block alert-danger\">\n",
    "\n",
    "Es lassen sich Funktionswerte berechnen und ausgeben."
   ]
  },
  {
   "cell_type": "code",
   "execution_count": 4,
   "metadata": {},
   "outputs": [
    {
     "name": "stdout",
     "output_type": "stream",
     "text": [
      "0\n"
     ]
    }
   ],
   "source": [
    "print(fkt(1,4/3))"
   ]
  },
  {
   "cell_type": "markdown",
   "metadata": {},
   "source": [
    "<div class=\"alert alert-block alert-danger\">\n",
    "\n",
    "Es lassen sich auch Funktionsgraphen zeichnen:"
   ]
  },
  {
   "cell_type": "code",
   "execution_count": 5,
   "metadata": {},
   "outputs": [
    {
     "data": {
      "image/png": "[encoded data removed]",
      "text/plain": [
       "<Figure size 432x288 with 1 Axes>"
      ]
     },
     "metadata": {
      "needs_background": "light"
     },
     "output_type": "display_data"
    },
    {
     "name": "stdout",
     "output_type": "stream",
     "text": [
      "-1.9995999599959997\n",
      "0\n"
     ]
    }
   ],
   "source": [
    "import numpy as np\n",
    "import matplotlib.pyplot as plt\n",
    "\n",
    "X = np.linspace(-2, 2, 10000, endpoint=True)\n",
    "\n",
    "Y = [fkt(i,2/3) for i in X]\n",
    "\n",
    "\n",
    "#Jetzt folgt der Graph mit den Punkten\n",
    "plt.plot(X, Y, linewidth=2, linestyle=\"dashed\", label=\"fkt\")\n",
    "plt.legend()\n",
    "plt.show()\n",
    "print(X[1])\n",
    "print(Y[1])"
   ]
  },
  {
   "cell_type": "markdown",
   "metadata": {},
   "source": [
    "<div class=\"alert alert-block alert-warning\">\n",
    "    \n",
    "### Aufgabe 2\n",
    "1. Zeichne Graphen der verschiedenen $\\phi$ oben\n",
    "2. Variiere die Variablen und Werte der Variablen, Funktionen oben. Notiere, welchen Einflüss Veränderungen haben.\n",
    "3. Ergänze die Ausgabe des Graphen und die Ausgabe von $\\Sigma$."
   ]
  },
  {
   "cell_type": "markdown",
   "metadata": {},
   "source": [
    "<div class=\"alert alert-block alert-warning\">\n",
    "    \n",
    "### Aufgabe 3\n",
    "Im Graphen liegt mathematisch gesehen ein Fehler. Nenne und erkläre ihn."
   ]
  },
  {
   "cell_type": "markdown",
   "metadata": {},
   "source": [
    "<div class=\"alert alert-block alert-info\">\n",
    "\n",
    "## Definition des Neurons\n",
    "Der Vorgang im Beispiel lässt sich durch ein $\\mathbf{Neuron}$ darstellen:\n",
    "\n",
    "$$\n",
    "\\begin{array}{ccccccc}\n",
    "x_1 & \\rightarrow & w_1 & \n",
    "\\\\\n",
    "& & & \\searrow & & &\n",
    "\\\\\n",
    "& & & & \\Sigma = w_1 x_1 + w_2 x_2 & \\rightarrow & a = f(\\Sigma)\n",
    "\\\\\n",
    "& & & \\nearrow & & &\n",
    "\\\\\n",
    "x_2 & \\rightarrow & w_2 & & & &\n",
    "\\end{array}\n",
    "$$\n",
    "\n",
    "Hierbei bezeichnen:\n",
    "\n",
    "1. $x_1, x_2$: $\\mathbf{Eingänge}$ $\\leadsto$ Es handelt sich um konkrete Eingabewerte.\n",
    "2. $w_1, w_2$: $\\mathbf{Eingangsgewichte}$ oder einfach $\\mathbf{Gewichte}$ $\\leadsto$ Diese Werte legen fest, wie stark jeder Eingabewert zu berücksichtigen ist.\n",
    "3. $\\Sigma$: Es handelt sich um die Summe der Produkte $x_i \\cdot w_i$. Notiert man die $x_i$ und $w_i$ in Form liegender und stehender Vektoren, multipliziert sie mit einander und wendet die Summenschreibweise an, so ist\n",
    "$$\n",
    "\\left( w_1 \\quad w_2\\right) \\odot \\left( {x_1 \\atop x_2}\\right) = \\sum_{i=1}^2 x_i \\cdot w_i\\, .\n",
    "$$\n",
    "Zur Unterscheidung von der Multiplikation reeller Zahlen wurde hier die Multiplikation der Vektoren durch \"$\\odot$\" notiert.\n",
    "\n",
    "Diese Schreibweise lässt sich auf eine beliebige Anzahl von Eingängen und Eingangsgewichten übertragen:\n",
    "$$\n",
    "\\left( w_1 \\quad w_2 \\quad \\cdots \\quad w_n \\right) \\odot \\left( \\begin{array}{c} x_1 \\\\ x_2 \\\\ \\vdots \\\\ x_n \\end{array} \\right) = \\sum_{i=1}^n x_i \\cdot w_i\\, .\n",
    "$$\n",
    "Es handelt sich um die $\\mathbf{gewichtete}\\, \\mathbf{Summe}$.\n",
    "4. Zwischen den unterschiedlichen Ausgaben - hier 0 und 1 - ist eine Grenze zu setzen, der $\\mathbf{Schwellenwert}$ $\\phi$.\n",
    "5. Die Ausgabe wird über die $\\mathbf{Ausgabefunktion}$ oder $\\mathbf{Aktivierungsfunktion}$ $f\\colon\\, \\mathbb{R}\\to \\mathbb{R}$ geregelt. Für eine Stufenfunktion ist\n",
    "$$\n",
    "f (\\Sigma) = \\left\\{ \\begin{array}{cl}\n",
    "0 & \\mbox{ für } \\Sigma < \\phi\\, ,\n",
    "\\\\\n",
    "1 & \\mbox{ für } \\Sigma \\geq \\phi\\, .\n",
    "\\end{array}\\right.\n",
    "$$\n",
    "Die Ausgabe wird öfter einfach als $a$ oder $a_{ist}$ bezeichnet.\n",
    "6. In einem Verfahren werden Eingabewerte und Schwellenwerte so angepasst, dass ein bestimmtes Ergebnis eintritt."
   ]
  },
  {
   "cell_type": "markdown",
   "metadata": {},
   "source": [
    "<div class=\"alert alert-block alert-warning\">\n",
    "\n",
    "### Aufgabe 4\n",
    "Gib den Entwurf eines Neurons für die Beispiele aus Aufgabe 1 an.\n",
    "Entwirf ein Neuron mit Python in den oben notierten Schritten. Definiere das Neuron dabei in Form einer Funktion."
   ]
  },
  {
   "cell_type": "markdown",
   "metadata": {},
   "source": [
    "<div class=\"alert alert-block alert-success\">\n",
    "    \n",
    "#### Lösung von Aufgabe 4: \n",
    "Entwurf eines Neurons mit Python in einzelnen Schritten ####"
   ]
  },
  {
   "cell_type": "markdown",
   "metadata": {},
   "source": [
    "<div class=\"alert alert-block alert-success\">\n",
    "Zunächst werden die Eingangsgewichte definiert."
   ]
  },
  {
   "cell_type": "code",
   "execution_count": 6,
   "metadata": {},
   "outputs": [],
   "source": [
    "w1 = 1\n",
    "w2 = 1"
   ]
  },
  {
   "cell_type": "markdown",
   "metadata": {},
   "source": [
    "<div class=\"alert alert-block alert-success\">\n",
    "Nun wird der Schwellenwert gesetzt."
   ]
  },
  {
   "cell_type": "code",
   "execution_count": 7,
   "metadata": {},
   "outputs": [],
   "source": [
    "phi = 0.4"
   ]
  },
  {
   "cell_type": "markdown",
   "metadata": {},
   "source": [
    "<div class=\"alert alert-block alert-success\">\n",
    "Hier werden die Eingänge notiert. Beim späteren Rückgriff ist darauf zu achten, dass der Zähler bei 0 beginnt."
   ]
  },
  {
   "cell_type": "code",
   "execution_count": 8,
   "metadata": {},
   "outputs": [],
   "source": [
    "x1 = [0,1]\n",
    "x2 = [0,1]"
   ]
  },
  {
   "cell_type": "markdown",
   "metadata": {},
   "source": [
    "<div class=\"alert alert-block alert-success\"> Hier folgt die Berechnung einzelner Varianten der gewichteten Summe $\\Sigma$. Dabei wird auf einzelne Elemente der Tupel x1 und x2 zugegriffen."
   ]
  },
  {
   "cell_type": "code",
   "execution_count": 9,
   "metadata": {},
   "outputs": [
    {
     "data": {
      "text/plain": [
       "0"
      ]
     },
     "execution_count": 9,
     "metadata": {},
     "output_type": "execute_result"
    }
   ],
   "source": [
    "x1[0]*w1 + x2[0]*w2"
   ]
  },
  {
   "cell_type": "markdown",
   "metadata": {},
   "source": [
    "<div class=\"alert alert-block alert-success\"> Es folgt die Liste der Berechnung aller Möglichkeiten von $\\Sigma$ in diesem Beispiel. Die Tabelle besitzt die Struktur $x_1, x_2, \\Sigma$ und den $f(\\Sigma)$."
   ]
  },
  {
   "cell_type": "code",
   "execution_count": 10,
   "metadata": {},
   "outputs": [
    {
     "name": "stdout",
     "output_type": "stream",
     "text": [
      "0 0 0 0\n",
      "0 1 1 1\n",
      "1 0 1 1\n",
      "1 1 2 1\n"
     ]
    }
   ],
   "source": [
    "for i in [0,1]:\n",
    "    for j in [0,1]:\n",
    "        Sigma = x1[i]*w1 + x2[j]*w2\n",
    "        if Sigma < phi:\n",
    "            print(x1[i],x2[j],Sigma,0)\n",
    "        else :\n",
    "            print(x1[i],x2[j],Sigma,1)"
   ]
  },
  {
   "cell_type": "markdown",
   "metadata": {},
   "source": [
    "$\\Box$"
   ]
  },
  {
   "cell_type": "markdown",
   "metadata": {},
   "source": [
    "<div class=\"alert alert-block alert-danger\">\n",
    "\n",
    "### Das Neuron in einer Funktion"
   ]
  },
  {
   "cell_type": "markdown",
   "metadata": {},
   "source": [
    "<div class=\"alert alert-block alert-danger\">\n",
    "    \n",
    "Ein Neuron lässt sich unter Python in Form einer Funktion definieren. Die verschiedenen Größen sind Variablen der Funktion."
   ]
  },
  {
   "cell_type": "code",
   "execution_count": 11,
   "metadata": {},
   "outputs": [],
   "source": [
    "def neuron01( x1, x2, w1, w2, phi ):\n",
    "    for i in [0,1]:\n",
    "        for j in [0,1]:\n",
    "            Sigma = x1[i]*w1 + x2[j]*w2\n",
    "            if Sigma < phi:\n",
    "                print(x1[i],x2[j],Sigma,0)\n",
    "            else :\n",
    "                print(x1[i],x2[j],Sigma,1)"
   ]
  },
  {
   "cell_type": "markdown",
   "metadata": {},
   "source": [
    "<div class=\"alert alert-block alert-danger\">\n",
    "\n",
    "Wir nehmen an, dass $x_1 = [0,\\! 7;0,\\! 25]$ und $x_2 = [0,\\! 2; 0,\\! 3]$ existierende Werte sind. Ferner legen wir $w_1=1,\\! 0$ und $w_2=0,\\! 8$ fest. Es soll $\\phi = 1$ sein. Hiermit lässt sich $\\Sigma$ berechnen:"
   ]
  },
  {
   "cell_type": "code",
   "execution_count": 12,
   "metadata": {},
   "outputs": [],
   "source": [
    "x1 = [0.7,0.25]\n",
    "x2 = [0.2,0.3]\n",
    "w1 = 1.0\n",
    "w2 = 0.8\n",
    "phi = 1"
   ]
  },
  {
   "cell_type": "markdown",
   "metadata": {},
   "source": [
    "<div class=\"alert alert-block alert-danger\">\n",
    "\n",
    "neuron01 berechnet $\\Sigma$ für die Listen $x_1$ und $x_2$ und $w_1, w_2, \\phi$. Die Tabelle besitzt die Struktur $x_1, x_2, \\Sigma$ und den $f(\\Sigma)$."
   ]
  },
  {
   "cell_type": "code",
   "execution_count": 13,
   "metadata": {},
   "outputs": [
    {
     "name": "stdout",
     "output_type": "stream",
     "text": [
      "0.7 0.2 0.86 0\n",
      "0.7 0.3 0.94 0\n",
      "0.25 0.2 0.41000000000000003 0\n",
      "0.25 0.3 0.49 0\n"
     ]
    }
   ],
   "source": [
    "neuron01(x1,x2,w1,w2,phi)"
   ]
  },
  {
   "cell_type": "markdown",
   "metadata": {},
   "source": [
    "<div class=\"alert alert-block alert-warning\"> \n",
    "\n",
    "### Aufgabe 5\n",
    "Verändere die Variablen $x_1, x_2, w_1, w_2$ und $\\phi$. Beobachte die Abhängigkeit der Funktion neuron01 von diesen Variablen."
   ]
  },
  {
   "cell_type": "markdown",
   "metadata": {},
   "source": [
    "<div class=\"alert alert-block alert-danger\">\n",
    "    \n",
    "## Lernverfahren"
   ]
  },
  {
   "cell_type": "markdown",
   "metadata": {},
   "source": [
    "<div class=\"alert alert-block alert-danger\">\n",
    "    \n",
    "### Beispiel:\n",
    "Eine Mixed-Volleyballmannschaft besteht aus drei Frauen (F) und vier Männern (M). Ihre Körpergrößen und ihre Gewichte sind in der folgenden Tabelle erkennbar:\n",
    "\n",
    "<table style=\"width:60%\">\n",
    "    <tr>\n",
    "        <th>Person</th>\n",
    "        <th>Größe in cm</th>\n",
    "        <th>Gewicht in kg</th>            \n",
    "    </tr>\n",
    "    <tr>\n",
    "        <td>F1</td>\n",
    "        <td>165</td>\n",
    "        <td>50</td>\n",
    "    </tr>\n",
    "    <tr>\n",
    "        <td>F2</td>\n",
    "        <td>175</td>\n",
    "        <td>50</td>\n",
    "    </tr>\n",
    "    <tr>\n",
    "        <td>F3</td>\n",
    "        <td>190</td>\n",
    "        <td>70</td>\n",
    "    </tr>\n",
    "    <tr>\n",
    "        <td>M1</td>\n",
    "        <td>175</td>\n",
    "        <td>70</td>\n",
    "    </tr>\n",
    "    <tr>\n",
    "        <td>M2</td>\n",
    "        <td>185</td>\n",
    "        <td>80</td>\n",
    "    </tr>\n",
    "    <tr>\n",
    "        <td>M3</td>\n",
    "        <td>195</td>\n",
    "        <td>100</td>\n",
    "    </tr>\n",
    "    <tr>\n",
    "        <td>M4</td>\n",
    "        <td>205</td>\n",
    "        <td>100</td>\n",
    "    </tr>\n",
    "</table>\n",
    "\n",
    "Um das Ganze etwas übersichtlicher zu machen, werden die Werte auf bestimmte Werte \"skaliert\". Dabei werden zur Skalierung \"runde\" Werte oberhalb der Höchstwerte gewählt. Bei der Größe wählen wir zur Skalierung 250 cm, beim Gewicht 200 kg. Die entsprechenden Werte werden als die Eingänge $x_1$ und $x_2$ gewählt. Damit ergibt sich die folgende Tabelle:\n",
    "\n",
    "<table style=\"width:60%\">\n",
    "    <tr>\n",
    "        <th>Person</th>\n",
    "        <th>Größe in cm / 250 cm</th>\n",
    "        <th>Gewicht in kg / 200 kg</th>            \n",
    "    </tr>\n",
    "    <tr>\n",
    "        <td> </td>\n",
    "        <td>$x_1$</td>\n",
    "        <td>$x_2$</td>\n",
    "    </tr>\n",
    "    <tr>\n",
    "        <td>F1</td>\n",
    "        <td>0,66</td>\n",
    "        <td>0,25</td>\n",
    "    </tr>\n",
    "    <tr>\n",
    "        <td>F2</td>\n",
    "        <td>0,70</td>\n",
    "        <td>0,25</td>\n",
    "    </tr>\n",
    "    <tr>\n",
    "        <td>F3</td>\n",
    "        <td>0,76</td>\n",
    "        <td>0,35</td>\n",
    "    </tr>\n",
    "    <tr>\n",
    "        <td>M1</td>\n",
    "        <td>0,70</td>\n",
    "        <td>0,35</td>\n",
    "    </tr>\n",
    "    <tr>\n",
    "        <td>M2</td>\n",
    "        <td>0,74</td>\n",
    "        <td>0,40</td>\n",
    "    </tr>\n",
    "    <tr>\n",
    "        <td>M3</td>\n",
    "        <td>0,78</td>\n",
    "        <td>0,50</td>\n",
    "    </tr>\n",
    "    <tr>\n",
    "        <td>M4</td>\n",
    "        <td>0,82</td>\n",
    "        <td>0,50</td>\n",
    "    </tr>\n",
    "</table>\n",
    "\n",
    "Es soll analog zur Trennung von Raupen und Marienkäfern eine Unterscheidung zwischen Männern und Frauen der Mannschaft unter Bezug auf die Größe und das Gewicht der Person möglich gemacht werden, um die Anschaffung von Trikos und Trainigsmaterial planen zu können. Hierfür sind Tupel $(x_1,x_2)$ der Personen zu wählen. Wir sehen uns hier an, wie die zu den Tabellenwerten gehörenden Punkte im Koordinatensystem liegen.\n",
    "\n",
    "Betrachte die folgenden Schritte und vollziehe sie nach. Setze sie dann in Aufgabe 6 um."
   ]
  },
  {
   "cell_type": "markdown",
   "metadata": {},
   "source": [
    "<div class=\"alert alert-block alert-danger\">\n",
    "    \n",
    "Schritt 1:\n",
    "\n",
    "Um ein Streudiagramm zeichnen zu können, ist ein Paket zu laden und die Möglichkeit zu schaffen, einen Plot anzuzeigen."
   ]
  },
  {
   "cell_type": "code",
   "execution_count": 22,
   "metadata": {},
   "outputs": [],
   "source": [
    "# Skatter-Plot (Streudiagramm)\n",
    "import matplotlib.pyplot as plt\n",
    "# Um einen Plot anzuzeigen\n",
    "%matplotlib inline"
   ]
  },
  {
   "cell_type": "markdown",
   "metadata": {},
   "source": [
    "<div class=\"alert alert-block alert-danger\">\n",
    "    \n",
    "Schritt 2:\n",
    "\n",
    "Python Listen sind zur Anwendung in NumPy-Arrays umzuwandeln. Dazu ist ein Paket zu laden.\n",
    "\n",
    "(Hinweis. Prinzipiell lässt sich unter NumPy auch mit Matrizen arbeiten. Bei arrays lässt sich jedoch einfacher mit einzelnen Elementen arbeiten, wie unten noch deutlich wird. Daher haben wir hier mit arrays gearbeitet.)"
   ]
  },
  {
   "cell_type": "code",
   "execution_count": 23,
   "metadata": {},
   "outputs": [],
   "source": [
    "import numpy as np"
   ]
  },
  {
   "cell_type": "markdown",
   "metadata": {},
   "source": [
    "<div class=\"alert alert-block alert-danger\">\n",
    "    \n",
    "Schritt 3:\n",
    "\n",
    "Die $x_1$-Werte und die $x_2$-Werte sind jeweils in Arrays zu übertragen."
   ]
  },
  {
   "cell_type": "code",
   "execution_count": 24,
   "metadata": {},
   "outputs": [],
   "source": [
    "# Hier werden die x_1-Koordinaten definiert\n",
    "x1 = np.array([0.66, 0.70, 0.76, 0.70, 0.74, 0.78, 0.82])\n",
    "# Hier werden die x_2-Koordinaten definiert\n",
    "x2 = np.array([0.25, 0.25, 0.35, 0.35, 0.40, 0.50, 0.50])"
   ]
  },
  {
   "cell_type": "markdown",
   "metadata": {},
   "source": [
    "<div class=\"alert alert-block alert-danger\">\n",
    "    \n",
    "Schritt 4:\n",
    "\n",
    "$(x_1[i]|x_2[i])$ mit Elementen $x_1[i]$ aus der Liste $x_1$ und Elementen $x_2[i]$ aus der Liste $x_2$ können als Punkte in einem Koordinatensystem betrachtet werden.\n",
    "\n",
    "Um zwischen Spielerinnen und Spielern unterscheiden zu können, wird jedem Punkt eine Farbe zugewiesen.\n",
    "Außerdem wird die Größe der Punkte definiert."
   ]
  },
  {
   "cell_type": "code",
   "execution_count": 25,
   "metadata": {},
   "outputs": [],
   "source": [
    "# Um sie zu unterscheiden, wird den Punkten eine Farbe zugeordnet\n",
    "color = np.array(['black','black','black', 'red', 'red', 'red', 'red'])\n",
    "# Die Größe der Punkte wird noch definiert\n",
    "size = np.array([1, 1, 1, 1, 1, 1, 1])"
   ]
  },
  {
   "cell_type": "markdown",
   "metadata": {},
   "source": [
    "<div class=\"alert alert-block alert-danger\">\n",
    "    \n",
    "Die Arrays lassen sich gemeinsam als eine Matrix verstehen, in deren Spalten die Parameter einer bestimmten Person gesammelt sind:\n",
    "$$\n",
    "\\begin{array}{c}\n",
    "\\begin{array}{cccc}\n",
    "x_1 & x_2 & color & size\n",
    "\\end{array}\n",
    "\\\\\n",
    "\\left(\\begin{array}{cccc}\n",
    "0.66 & 0.25 & 'black' & 1\n",
    "\\\\\n",
    "0.70 & 0.25 & 'black' & 1\n",
    "\\\\\n",
    "\\vdots & \\vdots & \\vdots & \\vdots\n",
    "\\\\\n",
    "0.82 & 0.50 & 'red' & 1\n",
    "\\end{array}\n",
    "\\right)\n",
    "\\end{array}\n",
    "$$"
   ]
  },
  {
   "cell_type": "markdown",
   "metadata": {},
   "source": [
    "<div class=\"alert alert-block alert-danger\">\n",
    "    \n",
    "Schritt 5:\n",
    "\n",
    "Diese Parameter lassen sich in einem Plot umsetzen."
   ]
  },
  {
   "cell_type": "code",
   "execution_count": 26,
   "metadata": {},
   "outputs": [
    {
     "data": {
      "text/plain": [
       "<matplotlib.collections.PathCollection at 0x2748a4c23d0>"
      ]
     },
     "execution_count": 26,
     "metadata": {},
     "output_type": "execute_result"
    },
    {
     "data": {
      "image/png": "[encoded data removed]",
      "text/plain": [
       "<Figure size 432x288 with 1 Axes>"
      ]
     },
     "metadata": {
      "needs_background": "light"
     },
     "output_type": "display_data"
    }
   ],
   "source": [
    "plt.scatter(x1, x2, c=color, s=size)"
   ]
  },
  {
   "cell_type": "markdown",
   "metadata": {},
   "source": [
    "<div class=\"alert alert-block alert-danger\">\n",
    "    \n",
    "Schritt 6:\n",
    "\n",
    "Zur Skalierung und der Übersicht halber werden Achsen ausgegeben.\n",
    "Ferner werden ihre Achseneinstellungen gesetzt, von 0 bis 1 zu laufen."
   ]
  },
  {
   "cell_type": "code",
   "execution_count": 27,
   "metadata": {},
   "outputs": [
    {
     "data": {
      "text/plain": [
       "([<matplotlib.axis.YTick at 0x2748942e040>,\n",
       "  <matplotlib.axis.YTick at 0x2748a4fac40>],\n",
       " [Text(0, 0, ''), Text(0, 0, '')])"
      ]
     },
     "execution_count": 27,
     "metadata": {},
     "output_type": "execute_result"
    },
    {
     "data": {
      "image/png": "[encoded data removed]",
      "text/plain": [
       "<Figure size 432x288 with 1 Axes>"
      ]
     },
     "metadata": {
      "needs_background": "light"
     },
     "output_type": "display_data"
    }
   ],
   "source": [
    "plt.grid(True)\n",
    "plt.xticks([0.0,1.0])\n",
    "plt.yticks([0.0,1.0])"
   ]
  },
  {
   "cell_type": "markdown",
   "metadata": {},
   "source": [
    "<div class=\"alert alert-block alert-danger\">\n",
    "    \n",
    "Schritt 7:\n",
    "\n",
    "Letztlich wird der Plot augegeben."
   ]
  },
  {
   "cell_type": "code",
   "execution_count": 28,
   "metadata": {},
   "outputs": [],
   "source": [
    "plt.show()"
   ]
  },
  {
   "cell_type": "markdown",
   "metadata": {},
   "source": [
    "<div class=\"alert alert-block alert-danger\">\n",
    "    \n",
    "### Unterscheidung zwischen weiblichen und männlichen Spielern\n",
    "\n",
    "Zur Unterscheidung zwischen männlichen und weiblichen Spielern ist anschaulich betrachtet zwischen den Werten / im Graphen eine \"Grenze\" zu legen, so dass auf der einen Seite Markierungen von Frauen und auf der anderen Seite Markierungen von Männern liegen. Dem Tupel einer Frau soll eine 0, dem Tupel eines Manns eine 1 zugeordnet werden.\n",
    "\n",
    "Wie lässt sich eine Grenze ziehen? Hierzu betrachten wir zunächst einmal die Gleichung\n",
    "\\begin{equation}\n",
    "\\Sigma' = (w_1 \\quad w_2)\\odot \\left(\\begin{array}{c} x_1 \\\\ x_2 \\end{array}\\right) = w_1 \\cdot x_1 + w_2 \\cdot x_2\\, .\n",
    "\\end{equation}\n",
    "Um die Schreibweise später zu vereinheitlichen und übersichtlicher zu machen, schreiben wir ab jetzt $\\Sigma$ als\n",
    "$$\n",
    "\\Sigma = w_1 \\cdot x_1 + w_2\\cdot x_2 - \\phi = \\Sigma'-\\phi\\, .\n",
    "$$\n",
    "Damit ist die Funktion $f$ in jedem Fall gegeben durch\n",
    "$$\n",
    "f(\\Sigma) = \\left\\{ \\begin{array}{cl} 0 & \\mbox{für } \\Sigma < 0 \\\\ 1 & \\mbox{für } \\Sigma \\geq 0 \\end{array}\\right. ,\n",
    "$$\n",
    "Bringt man $\\Sigma$ auf die andere Seite, so wird klar, dass es sich um Geradengleichung handelt. Eine Gerade separiert zwei Halbebenen im $\\mathbb{R}^2$ von einander. Die Ausgabe des Neurons zeigt an, in welcher Halbebene der Punkt $(x_1,x_2)$ liegt. Die Fragestellung lässt sich also graphisch betrachet so verstehen, dass eine Gerade die Punkte von Frauen und Männern von einander trennt.\n",
    "\n",
    "Betrachten wir die Zuordnungsvorschrift $f$ mit\n",
    "$$\n",
    "f(\\Sigma) = \\left\\{ \\begin{array}{cl} 0 & \\mbox{für } \\Sigma < 0 \\\\ 1 & \\mbox{für } \\Sigma \\geq 0 \\end{array}\\right. ,\n",
    "$$\n",
    "so zeigt es an, dass genau die Gerade zur Gleichung $w_1 \\cdot x_1 + w_2 \\cdot x_2 = \\phi$ mit dem Schwellenwert $\\phi$ betrachtet werden sollte. Hierbei ist $\\phi$ als weitere Variable zu verstehen.         \n",
    "\n",
    "Um eine Möglichkeit zu bekommen, die Gerade zu zeichnen, definieren wir sie als Funktion. Dies bedeutet, dass wir obige Gleichung nach $x_2$ auflösen:\n",
    "\\begin{eqnarray}\n",
    "w_1 \\cdot x_1 + w_2 \\cdot x_2 &=& \\phi\n",
    "\\\\\n",
    "\\iff w_2 \\cdot x_2 &=& - w_1 \\cdot x_1+ \\phi\n",
    "\\\\\n",
    "\\iff x_2 &=& - \\frac{w_1}{w_2} \\cdot x_1 + \\frac{\\phi}{w_2}\n",
    "\\end{eqnarray}\n",
    "Die Zeichnung einer solchen Gerade lässt sich mit Python umsetzen. Hierzu ergänzen wir das letzte Programm."
   ]
  },
  {
   "cell_type": "markdown",
   "metadata": {},
   "source": [
    "<div class=\"alert alert-block alert-danger\">\n",
    "    \n",
    "Bei der Umsetzung verlaufen erste Schritte analog zu oben:"
   ]
  },
  {
   "cell_type": "code",
   "execution_count": 29,
   "metadata": {},
   "outputs": [
    {
     "data": {
      "text/plain": [
       "([<matplotlib.axis.YTick at 0x2748a541fa0>,\n",
       "  <matplotlib.axis.YTick at 0x2748a541b80>],\n",
       " [Text(0, 0, ''), Text(0, 0, '')])"
      ]
     },
     "execution_count": 29,
     "metadata": {},
     "output_type": "execute_result"
    },
    {
     "data": {
      "image/png": "[encoded data removed]",
      "text/plain": [
       "<Figure size 432x288 with 1 Axes>"
      ]
     },
     "metadata": {
      "needs_background": "light"
     },
     "output_type": "display_data"
    }
   ],
   "source": [
    "# Skatter-Plot (Streudiagramm)\n",
    "import matplotlib.pyplot as plt\n",
    "# Um einen Plot anzuzeigen\n",
    "%matplotlib inline\n",
    "\n",
    "import numpy as np\n",
    "#import atplotlib\n",
    "# Python Listen sind in NumPy-Arrays umzuwandeln, um eine Anwendung möglich zu machen\n",
    "\n",
    "# Hier werden die x_1-Koordinaten definiert\n",
    "x1 = np.array([0.66, 0.70, 0.76, 0.70, 0.74, 0.78, 0.82])\n",
    "# Hier werden die x_2-Koordinaten definiert\n",
    "x2 = np.array([0.25, 0.25, 0.35, 0.35, 0.40, 0.50, 0.50])\n",
    "# Um sie zu unterscheiden, wird den Punkten eine Farbe zugeordnet\n",
    "color = np.array(['black','black','black', 'red', 'red', 'red', 'red'])\n",
    "# Die Größe der Punkte wird noch definiert\n",
    "size = np.array([1, 1, 1, 1, 1, 1, 1])\n",
    "\n",
    "#Achsen werden ausgegeben\n",
    "plt.grid(True)\n",
    "\n",
    "# Diese Paraymeter werden in einem Plot umgesetzt\n",
    "plt.scatter(x1, x2, c=color, s=size)\n",
    "\n",
    "# Achseneinstellungen setzen\n",
    "plt.xticks([0.0,1.0])\n",
    "plt.yticks([0.0,1.0])"
   ]
  },
  {
   "cell_type": "markdown",
   "metadata": {},
   "source": [
    "<div class=\"alert alert-block alert-danger\">\n",
    "    \n",
    "Hier folgen den Schritten 1 bis 7 von oben noch folgende Schritte:"
   ]
  },
  {
   "cell_type": "markdown",
   "metadata": {},
   "source": [
    "<div class=\"alert alert-block alert-danger\">\n",
    "    \n",
    "Schritt 8:\n",
    "\n",
    "Definition der Eingangsgewichte $w_1$ und $w_2$ für das Netz."
   ]
  },
  {
   "cell_type": "code",
   "execution_count": 30,
   "metadata": {},
   "outputs": [],
   "source": [
    "w11 = -1.0\n",
    "w21 = 0.8"
   ]
  },
  {
   "cell_type": "markdown",
   "metadata": {},
   "source": [
    "<div class=\"alert alert-block alert-danger\">\n",
    "    \n",
    "Schritt 9:\n",
    "\n",
    "Definition des Schwellenwerts $\\phi$"
   ]
  },
  {
   "cell_type": "code",
   "execution_count": 31,
   "metadata": {},
   "outputs": [],
   "source": [
    "phi = 0.4"
   ]
  },
  {
   "cell_type": "markdown",
   "metadata": {},
   "source": [
    "<div class=\"alert alert-block alert-danger\">\n",
    "    \n",
    "Schritt 10:\n",
    "\n",
    "Der folgende Befehl definiert ein array von 0 bis 1, das aus zwei Werten besteht. (Bei mehr als zwei geforderten Werten sind diese auf das Intervall gleichverteilt.)\n",
    "\n",
    "Diese Liste wird anschließend ausgegeben."
   ]
  },
  {
   "cell_type": "code",
   "execution_count": 32,
   "metadata": {},
   "outputs": [
    {
     "name": "stdout",
     "output_type": "stream",
     "text": [
      "[0. 1.]\n"
     ]
    }
   ],
   "source": [
    "xListe = np.linspace (0.0,1.0,2)\n",
    "print(xListe)"
   ]
  },
  {
   "cell_type": "markdown",
   "metadata": {},
   "source": [
    "<div class=\"alert alert-block alert-danger\">\n",
    "    \n",
    "Schritt 11:\n",
    "\n",
    "Hier wird ein $\\Lambda$-Operator definiert. Er dient zur Definition von Operatoren mehrerer Variablen.\n",
    "\n",
    "Anschließend werden vier Variablen festgelegt: $x, \\phi, w_1, w_2$\n",
    "\n",
    "Hinter dem Doppelpunkt steht die Operation, durch die diese Werte miteinander verknüpft sind.\n",
    "\n",
    "Es handelt es sich um den Term der linearen Separation der Klassen, der damit eine Gerade beschreibt."
   ]
  },
  {
   "cell_type": "code",
   "execution_count": 33,
   "metadata": {},
   "outputs": [],
   "source": [
    "xLine = lambda x,phi,w1,w2: -w1/w2*x - phi/w2"
   ]
  },
  {
   "cell_type": "markdown",
   "metadata": {},
   "source": [
    "<div class=\"alert alert-block alert-danger\">\n",
    "    \n",
    "Schritt 12:\n",
    "\n",
    "In den $\\Lambda$-Operator von oben werden für $w_0$, $w_1$ und $w_2$ die zuvor definierten Werte $w_{01}, w_{11}, w_{21}$ eingesetzt.\n",
    "\n",
    "Für $x$ wird jeder Wert der $\\mathtt{xListe}$ eingesetzt. Dies führt hier zu einer Liste von zwei Elementen.\n",
    "\n",
    "Durch die zur $\\mathtt{xLine}$ gehörenden Punkte wird durch $\\mathtt{plot}$ eine Gerade gezogen.\n",
    "\n",
    "$\\mathbf{Achtung!}$ Für den Graph werden immer die $x$-Werte 0 und 1 genommen, ganz egal, was für die $\\mathtt{xListe}$ gewählt wurde!"
   ]
  },
  {
   "cell_type": "code",
   "execution_count": 34,
   "metadata": {},
   "outputs": [
    {
     "name": "stdout",
     "output_type": "stream",
     "text": [
      "[-0.5   0.75]\n"
     ]
    },
    {
     "data": {
      "text/plain": [
       "[<matplotlib.lines.Line2D at 0x2748a59ef40>]"
      ]
     },
     "execution_count": 34,
     "metadata": {},
     "output_type": "execute_result"
    },
    {
     "data": {
      "image/png": "[encoded data removed]",
      "text/plain": [
       "<Figure size 432x288 with 1 Axes>"
      ]
     },
     "metadata": {
      "needs_background": "light"
     },
     "output_type": "display_data"
    }
   ],
   "source": [
    "print(xLine(xListe,phi,w11,w21))\n",
    "plt.plot(xLine(xListe,phi,w11,w21))"
   ]
  },
  {
   "cell_type": "markdown",
   "metadata": {},
   "source": [
    "<div class=\"alert alert-block alert-danger\">\n",
    "    \n",
    "Schritt 13:\n",
    "\n",
    "Letztlich wird der Plot ausgegeben. Alles zusammen sieht folgendermaßen aus:"
   ]
  },
  {
   "cell_type": "code",
   "execution_count": 35,
   "metadata": {},
   "outputs": [
    {
     "name": "stdout",
     "output_type": "stream",
     "text": [
      "[0. 1.]\n",
      "[-0.5   0.75]\n"
     ]
    },
    {
     "data": {
      "image/png": "[encoded data removed]",
      "text/plain": [
       "<Figure size 432x288 with 1 Axes>"
      ]
     },
     "metadata": {
      "needs_background": "light"
     },
     "output_type": "display_data"
    }
   ],
   "source": [
    "# Skatter-Plot (Streudiagramm)\n",
    "import matplotlib.pyplot as plt\n",
    "# Um einen Plot anzuzeigen\n",
    "%matplotlib inline\n",
    "\n",
    "import numpy as np\n",
    "#import atplotlib\n",
    "# Python Listen sind in NumPy-Arrays umzuwandeln, um eine Anwendung möglich zu machen\n",
    "\n",
    "# Hier werden die x_1-Koordinaten definiert\n",
    "x1 = np.array([0.66, 0.70, 0.76, 0.70, 0.74, 0.78, 0.82])\n",
    "# Hier werden die x_2-Koordinaten definiert\n",
    "x2 = np.array([0.25, 0.25, 0.35, 0.35, 0.40, 0.50, 0.50])\n",
    "# Um sie zu unterscheiden, wird den Punkten eine Farbe zugeordnet\n",
    "color = np.array(['black','black','black', 'red', 'red', 'red', 'red'])\n",
    "# Die Größe der Punkte wird noch definiert\n",
    "size = np.array([1, 1, 1, 1, 1, 1, 1])\n",
    "\n",
    "#Achsen werden ausgegeben\n",
    "plt.grid(True)\n",
    "\n",
    "# Diese Paraymeter werden in einem Plot umgesetzt\n",
    "plt.scatter(x1, x2, c=color, s=size)\n",
    "\n",
    "# Achseneinstellungen setzen\n",
    "plt.xticks([0.0,1.0])\n",
    "plt.yticks([0.0,1.0])\n",
    "\n",
    "w11 = -1.0\n",
    "w21 = 0.8\n",
    "\n",
    "phi = 0.4\n",
    "\n",
    "xListe = np.linspace (0.0,1.0,2)\n",
    "print(xListe)\n",
    "\n",
    "xLine = lambda x,phi,w1,w2: -w1/w2*x - phi/w2\n",
    "\n",
    "print(xLine(xListe,phi,w11,w21))\n",
    "plt.plot(xLine(xListe,phi,w11,w21))\n",
    "\n",
    "plt.show()"
   ]
  },
  {
   "cell_type": "markdown",
   "metadata": {},
   "source": [
    "<div class=\"alert alert-block alert-danger\">\n",
    "    \n",
    "Wie sich an dem Ergebnis zeigt, ist der Verlauf der Gerade abhängig von $w_1, w_2$ und $\\phi$. Die Eingangsgewichte und der Schwellenwert sind also sinnvoll zu wählen, um das Ziel zu erreichen, die Daten mithilfe der zugehörigen Gerade in zwei Klassen zu unterteilen und die Zugehörigkeit von Daten (auch für weitere Daten) möglich zu machen.\n",
    "\n",
    "Übertragen auf die Erklärung weiter oben heißt dies, dass ein Schwellenwert zu finden ist, so dass die zugehörige Gerade so zwischen den Punkten $(x_1,x_2)$ verläuft, dass auf ihrer einen Seite zu Frauen gehörende Punkte und auf der anderen Seite zu Männern gehörende Punkte liegen."
   ]
  },
  {
   "cell_type": "markdown",
   "metadata": {},
   "source": [
    "<div class=\"alert alert-block alert-warning\">\n",
    "\n",
    "### Aufgabe 6\n",
    "Das folgende Programm ist identisch mit dem Programm oben. Verändere $w_1, w_2$ und $\\phi$ so, dass die Trennungsgerade ihren Zweck erfüllt."
   ]
  },
  {
   "cell_type": "code",
   "execution_count": 36,
   "metadata": {},
   "outputs": [
    {
     "name": "stdout",
     "output_type": "stream",
     "text": [
      "[0. 1.]\n",
      "[-0.5   0.75]\n"
     ]
    },
    {
     "data": {
      "image/png": "[encoded data removed]",
      "text/plain": [
       "<Figure size 432x288 with 1 Axes>"
      ]
     },
     "metadata": {
      "needs_background": "light"
     },
     "output_type": "display_data"
    }
   ],
   "source": [
    "# Skatter-Plot (Streudiagramm)\n",
    "import matplotlib.pyplot as plt\n",
    "# Um einen Plot anzuzeigen\n",
    "%matplotlib inline\n",
    "\n",
    "import numpy as np\n",
    "#import atplotlib\n",
    "# Python Listen sind in NumPy-Arrays umzuwandeln, um eine Anwendung möglich zu machen\n",
    "\n",
    "# Hier werden die x_1-Koordinaten definiert\n",
    "x1 = np.array([0.66, 0.70, 0.76, 0.70, 0.74, 0.78, 0.82])\n",
    "# Hier werden die x_2-Koordinaten definiert\n",
    "x2 = np.array([0.25, 0.25, 0.35, 0.35, 0.40, 0.50, 0.50])\n",
    "# Um sie zu unterscheiden, wird den Punkten eine Farbe zugeordnet\n",
    "color = np.array(['black','black','black', 'red', 'red', 'red', 'red'])\n",
    "# Die Größe der Punkte wird noch definiert\n",
    "size = np.array([1, 1, 1, 1, 1, 1, 1])\n",
    "\n",
    "#Achsen werden ausgegeben\n",
    "plt.grid(True)\n",
    "\n",
    "# Diese Paraymeter werden in einem Plot umgesetzt\n",
    "plt.scatter(x1, x2, c=color, s=size)\n",
    "\n",
    "# Achseneinstellungen setzen\n",
    "plt.xticks([0.0,1.0])\n",
    "plt.yticks([0.0,1.0])\n",
    "\n",
    "w11 = -1.0\n",
    "w21 = 0.8\n",
    "\n",
    "phi = 0.4\n",
    "\n",
    "xListe = np.linspace (0.0,1.0,2)\n",
    "print(xListe)\n",
    "\n",
    "xLine = lambda x,phi,w1,w2: -w1/w2*x - phi/w2\n",
    "\n",
    "print(xLine(xListe,phi,w11,w21))\n",
    "plt.plot(xLine(xListe,phi,w11,w21))\n",
    "\n",
    "plt.show()"
   ]
  },
  {
   "cell_type": "markdown",
   "metadata": {},
   "source": [
    "<div class=\"alert alert-block alert-danger\">\n",
    "\n",
    "Mit der Lösung von Aufgabe 6 werden zwei Dinge deutlich:\n",
    " \n",
    "1. Die Lösung ist nicht unbedingt eindeutig. Unter Umständen gibt es für den Verlauf der Gerade zwischen den Punkten mehrere Lösungen. Ferner ist es evtl. nicht notwendig oder auch nicht möglich, eine Gerade zu finden, die die Bedingungen erfüllt.\n",
    "2. Es wird womöglich nicht unmittelbar passende Parameter für eine Grenze gewählt. Es werden mehrere Schritte benörigt.\n",
    "\n",
    "Hier stellt sich die Frage, ob es nicht ein Verfahren gibt, mit der sich eine mögliche Lösung bestimmen lässt.\n",
    "Es wäre schön, wenn es einen Algorithmus gäbe, der durch mehrfache Hintereinanderausführung zum Ziel führt, da man diesen Algorithmus an den Computer geben kann. Welche Bedingungen stelle ich also an $\\phi$? Wie finde ich das \"richtige\" $\\phi$?\n",
    "\n",
    "Diese Fragen werden weiter unten beantwortet."
   ]
  },
  {
   "cell_type": "markdown",
   "metadata": {},
   "source": [
    "<div class=\"alert alert-block alert-danger\">\n",
    "\n",
    "### Tabellarische Darstellung der Daten\n",
    "\n",
    "Die Entscheidungen, ob es sich um eine weibliche oder um einen männlichen Spieler handelt, lassen sich tabellarisch darstellen. Es sollen die Werte $x_1$ und $x_2$ in den ersten beiden Spalten notiert werden. In der dritten Spalte soll $\\Sigma$ notiert werden, und in der vierten Spalte soll die Entscheidung notiert werden, ob es sich unter den momentanen Bedingungen um eine Spielerin oder um einen Spieler handelt."
   ]
  },
  {
   "cell_type": "code",
   "execution_count": 37,
   "metadata": {},
   "outputs": [
    {
     "name": "stdout",
     "output_type": "stream",
     "text": [
      "0.66 0.25 0.8600000000000001 1\n",
      "0.66 0.25 0.8600000000000001 1\n",
      "0.7 0.25 0.8999999999999999 1\n",
      "0.7 0.25 0.8999999999999999 1\n",
      "0.66 0.25 0.8600000000000001 1\n",
      "0.66 0.25 0.8600000000000001 1\n",
      "0.7 0.25 0.8999999999999999 1\n",
      "0.7 0.25 0.8999999999999999 1\n",
      "0.66 0.25 0.8600000000000001 1\n",
      "0.66 0.25 0.8600000000000001 1\n",
      "0.7 0.25 0.8999999999999999 1\n",
      "0.7 0.25 0.8999999999999999 1\n",
      "0.66 0.25 0.8600000000000001 1\n",
      "0.66 0.25 0.8600000000000001 1\n",
      "0.7 0.25 0.8999999999999999 1\n",
      "0.7 0.25 0.8999999999999999 1\n"
     ]
    }
   ],
   "source": [
    "def neuron02( Sigma ):\n",
    "    \"\"\"\n",
    "    Berechnung der Entscheidung um Wert phi\n",
    "        Input: Sigma --> Sigma gibt die Grenze an, \n",
    "        Output: Anzeige 1, falls Sigma > 1,\n",
    "                0, sonst\n",
    "    \"\"\"\n",
    "    for i in [0, 1]:\n",
    "        for j in [0,1]:\n",
    "            Sigma = x1[i]*w1 + x2[j]*w2\n",
    "            if Sigma < phi:\n",
    "                print(x1[i],x2[j],Sigma,0)\n",
    "            else :\n",
    "                print(x1[i],x2[j],Sigma,1)\n",
    "\"\"\"\n",
    "Das Ziel der folgende Befehle liegt darin, Tupel[x, entsxheidung1(x)] bilden.\n",
    "\"\"\"\n",
    "\n",
    "#Koordinaten der Punkte \n",
    "x=[0,1,2,3]\n",
    "y=[neuron02(i) for i in x]"
   ]
  },
  {
   "cell_type": "markdown",
   "metadata": {},
   "source": [
    "<div class=\"alert alert-block alert-warning\">\n",
    "\n",
    "### Aufgabe 7\n",
    "Zeichne ein Flussdiagramm zu neuron02."
   ]
  },
  {
   "cell_type": "markdown",
   "metadata": {},
   "source": [
    "<div class=\"alert alert-block alert-danger\">\n",
    "\n",
    "### Die graphische Darstellung des Verfahrens nach dem Lernverfahren \n",
    "Das Ziel der folgende Befehle liegt darin, Tupel[x, entsxheidung1(x)] zu bilden\n",
    "und sie anschließend mit der Stufenfunktion graphische darzustellen."
   ]
  },
  {
   "cell_type": "code",
   "execution_count": 38,
   "metadata": {},
   "outputs": [
    {
     "data": {
      "image/png": "[encoded data removed]",
      "text/plain": [
       "<Figure size 432x288 with 1 Axes>"
      ]
     },
     "metadata": {
      "needs_background": "light"
     },
     "output_type": "display_data"
    }
   ],
   "source": [
    "def neuron03( Sigma ):\n",
    "    \"\"\"\n",
    "    Berechnung der Entscheidung um Wert summe\n",
    "        Input: Sigma --> Sigma gibt die Grenze an, \n",
    "        Output: 1, falls Sigma > 1,\n",
    "                0, sonst\n",
    "    \"\"\"\n",
    "    if Sigma > 1:\n",
    "        return 1\n",
    "    else:\n",
    "        return 0\n",
    "    \n",
    "#Import der Module\n",
    "import matplotlib.pyplot as plt\n",
    "# Um den Plot anzeigen zu können:\n",
    "%matplotlib inline\n",
    "\n",
    "#Koordinaten der Punkte \n",
    "x=[-1,0,0.999,1.001,2]\n",
    "y=[neuron03(i) for i in x]\n",
    "#Jetzt folgt der Graph mit den Punkten\n",
    "plt.step(x, y, '-b', label='step')\n",
    "#Label/Legende anzeigen\n",
    "plt.legend(loc='lower right')\n",
    "\n",
    "#Achsen definieren\n",
    "plt.grid(True)\n",
    "#Achsen fett setzen\n",
    "#plt.axhline(0, color='red', lw=1)\n",
    "#plt.axvline(0, color='red', lw=1)\n",
    "\n",
    "#Achsenbeschriftung und Titel des Graphen\n",
    "plt.xlabel('x-Koordinate')\n",
    "plt.ylabel('Entscheidung')\n",
    "plt.title('Stufenfunktion')\n",
    "\n",
    "#Graph anzeigen\n",
    "plt.show()"
   ]
  },
  {
   "cell_type": "markdown",
   "metadata": {},
   "source": [
    "<div class=\"alert alert-block alert-warning\">\n",
    "\n",
    "### Aufgabe 8\n",
    "Im Graphen von neuron03 befindet sich ein Fehler. Nenne und erkläre ihn."
   ]
  },
  {
   "cell_type": "markdown",
   "metadata": {},
   "source": [
    "<div class=\"alert alert-block alert-success\">\n",
    "    \n",
    "#### Lösung von Aufgabe 8.\n",
    "Eine Funktion ordnet jedem Element des Definitionsbereichs genau einen Wert zu. An der Stufe werden einem Element des Definitionsbereichs mehrere Werte zugeordnet.\n",
    "$\\Box$"
   ]
  },
  {
   "cell_type": "markdown",
   "metadata": {},
   "source": [
    "<div class=\"alert alert-block alert-danger\">\n",
    "\n",
    "### Variante mit Daten aus online Datensätzen im sklearn.datasets-Paket."
   ]
  },
  {
   "cell_type": "markdown",
   "metadata": {},
   "source": [
    "<div class=\"alert alert-block alert-danger\">\n",
    "Das sklearn.datasets-Paket enthält kleine Datensätze, vgl. <a href=\"https://scikit-learn.org/stable/datasets.html\">https://scikit-learn.org/stable/datasets.html</a>.\n",
    "\n",
    "Beschreibungen finden sich unter <a href=\"https://scikit-learn.org/stable/tutorial/basic/tutorial.html#loading-example-dataset\">https://scikit-learn.org/stable/tutorial/basic/tutorial.html#loading-example-dataset</a>."
   ]
  },
  {
   "cell_type": "markdown",
   "metadata": {},
   "source": [
    "<div class=\"alert alert-block alert-warning\">\n",
    "\n",
    "### Aufgabe 9\n",
    "Betrachte die folgenden Python-Befehle. Erkläre ihre Aussagen. Experimentiere mit verschiedenen Datensätzen von <a href=\"https://scikit-learn.org/stable/\">scikit-learn</a>."
   ]
  },
  {
   "cell_type": "code",
   "execution_count": 39,
   "metadata": {},
   "outputs": [],
   "source": [
    "from sklearn.datasets import make_blobs\n",
    "n_samples = 250 #Dies ist die Anzahl der benutzten Daten\n",
    "samples, labels = make_blobs(n_samples=n_samples, \n",
    "                             centers=([2.5, 3], [4.7, 7.9]), # Zentren der beiden Samples der Datensätze\n",
    "                             random_state=0)#Wähle Werte zufällig"
   ]
  },
  {
   "cell_type": "code",
   "execution_count": 40,
   "metadata": {},
   "outputs": [
    {
     "name": "stdout",
     "output_type": "stream",
     "text": [
      "-0.4 8\n"
     ]
    },
    {
     "data": {
      "image/png": "[encoded data removed]",
      "text/plain": [
       "<Figure size 432x288 with 1 Axes>"
      ]
     },
     "metadata": {
      "needs_background": "light"
     },
     "output_type": "display_data"
    }
   ],
   "source": [
    "import matplotlib.pyplot as plt\n",
    "import tkinter as tk\n",
    "colours = ('green', 'magenta', 'blue', 'cyan', 'yellow', 'red')\n",
    "fig, ax = plt.subplots()\n",
    "for n_class in range(2):\n",
    "    ax.scatter(samples[labels==n_class][:, 0], samples[labels==n_class][:, 1], \n",
    "               c=colours[n_class], s=30, label=str(n_class))\n",
    "\n",
    "X = np.arange(np.max(samples[:,0]))\n",
    "m = -.4\n",
    "b = 8\n",
    "print(m, b)\n",
    "ax.plot(X, m * X + b)\n",
    "plt.plot()\n",
    "plt.show()"
   ]
  },
  {
   "cell_type": "markdown",
   "metadata": {},
   "source": [
    "<div class=\"alert alert-block alert-danger\">\n",
    "\n",
    "## Perceptronen-Lernen"
   ]
  },
  {
   "cell_type": "markdown",
   "metadata": {},
   "source": [
    "<div class=\"alert alert-block alert-danger\">\n",
    "\n",
    "### Überwachtes Lernen\n",
    "Sollte es gar nicht gelingen, mit einer Ausgabefunktion zu einem vernünftigen Ergebnis zu kommen, kann es Sinn machen, die Ausgabefunktion $f$ so zu verändern, dass die Klassifikation bestimmte Eigenschaften bei der Trennung hat. Dies bedeutet, dass ein $\\mathbf{Klassifikationsproblem}$ zu lösen ist.\n",
    "\n",
    "Diese Klassifikation findet mithilfe eines $\\mathbf{überwachten\\, Lernens}$ statt. Aus einem eingegebenen $\\mathbf{Ist}$ wird ein gewünschtes $\\mathbf{Soll}$ entwickelt.\n",
    "\n",
    "Oben zeigte sich eine klare Verbindung zwischen Eingaben $x_i$, dem Schwellenwert $\\phi$ und der Summe $\\Sigma$. Dabei haben wir $\\Sigma$ durch $\\phi$ ersetzt. Es lässt sich aber auch als Spezialfall auffassen, dass $\\Sigma =0$ ist.\n",
    "\n",
    "Der Trick liegt dann darin, den negativen Schwellenwert $-\\phi$ als Gewicht $w_0$ zu verwenden. Setzt man auch noch $x_0=1$, dann gilt für die mithilfe des Neurons berechnete Summe:\n",
    "$$\n",
    "\\Sigma = - \\phi \\cdot 1 + w_1 \\cdot x_1 + w_2 \\cdot x_2 = w_0 \\cdot x_0 + w_1 \\cdot x_1 + w_2 \\cdot x_2 \\, .\n",
    "$$\n",
    "\n",
    "Als Anfangszustand lässt sich der Ansatz so deuten, dass ein Eingang $x_0=1$ und Schwellenwert $w_0 = -\\phi$ hinzugefügt werden  und analog zu den übrigen Eingängen Anwendung findet.\n",
    "\n",
    "Notiert man jetzt $W = (w_0 \\quad w_1 \\quad w_2)$ und $\\vec{x} = \\left( \\begin{array}{c} x_0 \\\\ x_1 \\\\ x_2\\end{array}\\right)$, so ist\n",
    "$$\n",
    "\\Sigma = W \\odot \\vec{x}.\n",
    "$$\n",
    "Damit ergibt sich der Anfangszustand des sogenannten Bias-Neurons:\n",
    "\n",
    "$$\n",
    "\\begin{array}{ccccccc}\n",
    "x_0=1 & \\rightarrow & w_0 & & & & \n",
    "\\\\\n",
    "& & & \\searrow & & & \n",
    "\\\\\n",
    "x_1 & \\rightarrow & w_1 & \\rightarrow & \\Sigma = W\\odot \\vec{x} = w_0 x_0 + w_1 x_1 + w_2 x_2 & \\rightarrow & a^{ist} = f(\\Sigma)\n",
    "\\\\\n",
    "& & & \\nearrow & & &\n",
    "\\\\\n",
    "x_2 & \\rightarrow & w_2 & & & &\n",
    "\\end{array}\n",
    "$$\n",
    "Durch die neue Schreibweise verändert sich auch die Ausgabefunktion. Unabhängig von $\\phi$ ist sie gegeben durch\n",
    "$$\n",
    "f(\\Sigma) = \\left\\{ \\begin{array}{cl} 0 & \\mbox{für } \\Sigma < 0\\, , \\\\ 1 & \\mbox{für } \\Sigma \\geq 0\\, . \\end{array}\\right.\n",
    "$$\n",
    "\n",
    "Wenden wir dies auf die Spielerin $F_2(0.70; 0.25)$ des Beispiels oben an. Da es sich um eine weibliche Person handelt, sollte sich $a^{soll} = 0$ ergeben. Für das Beispiel mit\n",
    "\n",
    "$$\n",
    "x_0 = 1, x_1 = 0.7, x_2 = 0.25\n",
    "$$\n",
    "\n",
    "sowie\n",
    "\n",
    "$$\n",
    "w_0 = -0.5, w_1 = 1.0 \\mbox{ und } w_2 = 0.8\n",
    "$$\n",
    "ergibt sich aber\n",
    "\n",
    "$$\n",
    "\\begin{array}{ccccccc}\n",
    "1 & \\rightarrow & -0.5 & & & & \n",
    "\\\\\n",
    "& & & \\searrow & & & \n",
    "\\\\\n",
    "0.7 & \\rightarrow & 1 & \\rightarrow & \\Sigma = -0.5\\cdot 1 +  \\cdot 0.7 + 0.8\\cdot 0.25 = 0.4 & \\rightarrow & a^{ist} = 1\\, .\n",
    "\\\\\n",
    "& & & \\nearrow & & &\n",
    "\\\\\n",
    "0.25 & \\rightarrow & 0.8 & & & &\n",
    "\\end{array}\n",
    "$$\n",
    "\n",
    "Hiernach sollte es sich fälschlicherweise um einen männlichen Spieler handeln.\n",
    "\n",
    "Oft besitzt man Interesse an der Entwicklung bzw. der Verbesserung der Klassifikation von Zuständen, und es ist  ein $\\mathbf{Klassifikationsproblem}$ zu lösen. Das Ziel liegt dabei darin, den Abstand zwischen dem momentanen Zustand und dem gewünschten Zustand zu reduzieren. Diese Klassifikation findet statt mithilfe von: \n",
    "\n",
    "Aus einem eingegebenen $\\mathbf{Ist-Zustand}$ $a_i^{ist}$ der Ausgabe $i$ wird ein gewünschter $\\mathbf{Soll-Zustand}$ $a_i^{soll}$ entwickelt, wie es weiter oben angedeutet wurde.\n",
    "\n",
    "Zu dieser Zeit ist unklar, woher der Soll-Zustand genau kommt. Dies werden wir genauer untersuchen.\n",
    "\n"
   ]
  },
  {
   "cell_type": "markdown",
   "metadata": {},
   "source": [
    "<div class=\"alert alert-block alert-danger\">\n",
    "\n",
    "### Gewichtsänderung und Lernrate\n",
    "Unsere Beobachtung der letzten Beispiele und Aufgaben ging dahin, dass bei konstantem $\\vec{x}$ die Gewichte $W^{ist} = (w_0^{ist}\\quad w_1^{it} \\quad w_2^{ist})$ so verändert werden, dass der Betrag von $W\\odot \\vec{x}$ kleiner wird und realistisch(er)e Ergebnisse liefert. Der Fehler $E$ ist zu reduzieren. Hierbei ergibt es Sinn, wenn die Veränderungen in $w_i$\n",
    "\n",
    "1. proportional zu den Eingaben $x_i$ ist,\n",
    "2. proportional zu den Differenzen $\\Delta a = a^{soll} - a^{ist}$ bei den Ausgaben ist.\n",
    "\n",
    "Es stellt sich aber die Frage, wie stark diese Veränderungen $\\Delta a$ berücksichtigt werden sollen. Befindet man sich bereits in der Nähe sinnvoller Werte, so ist eine geringere Korrektur nötig als wenn man sich noch in weitem Abstand möglicher Ergebnisse befindet. Diese starken Sprünge lassen sich durch den Faktor $\\alpha \\in [0;1[$, der $\\mathbf{Lernrate}$, reduzieren.\n",
    "\n",
    "3. Die Lernrate $\\alpha$ soll im Verlauf der Zeit verkleinert werden, um die Eingrenzung genauer zu machen.\n",
    "\n",
    "Unter der Berücksichtigung der Punkte 1, 2 und 3 ergibt sich die $\\mathbf{Delta-Regel}$ $\\Delta a$, mit dem man neue Gewichte \n",
    "$$\n",
    "w_i^{neu} = w_i^{ist} - \\alpha \\cdot \\Delta a_i \\cdot x_i   \\quad \\mbox{f\"ur } i=0,1,2\n",
    "$$\n",
    "berechnen kann. Der Faktor $\\alpha\\cdot \\Delta a\\cdot x_i$ lässt sich als Änderungsrate im Gewicht $w_i$ verstehen und wird als \n",
    "$$\n",
    "\\Delta w_i = \\alpha \\cdot \\Delta a \\cdot x_i\n",
    "$$\n",
    "notiert. Die Fragestellung lässt sich dann als lernen durch die $\\mathbf{Anpassungen}\\, \\Delta w_i\\, \\mathbf{der \\, Gewichte}$ erstehen."
   ]
  },
  {
   "cell_type": "markdown",
   "metadata": {},
   "source": [
    "<div class=\"alert alert-block alert-danger\">\n",
    "\n",
    "### Gewichtsänderung und Lernrate\n",
    "Unsere Beobachtung der letzten Beispiele und Aufgaben ging dahin, dass bei konstantem $\\vec{x}$ die Gewichte $W^{ist} = (w_0^{ist}\\quad w_1^{it} \\quad w_2^{ist})$ so verändert werden, dass der Betrag von $W\\odot \\vec{x}$ kleiner wird und realistisch(er)e Ergebnisse liefert. Der Fehler $E$ ist zu reduzieren. Hierbei ergibt es Sinn, wenn die Veränderungen in $w_i$\n",
    "\n",
    "1. proportional zu den Eingaben $x_i$ ist,\n",
    "2. proportional zu den Differenzen $\\Delta a = a^{soll} - a^{ist}$ bei den Ausgaben ist.\n",
    "\n",
    "Es stellt sich aber die Frage, wie stark diese Veränderungen $\\Delta a$ berücksichtigt werden sollen. Befindet man sich bereits in der Nähe sinnvoller Werte, so ist eine geringere Korrektur nötig als wenn man sich noch in weitem Abstand möglicher Ergebnisse befindet. Diese starken Sprünge lassen sich durch den Faktor $\\alpha \\in [0;1[$, der $\\mathbf{Lernrate}$, reduzieren.\n",
    "\n",
    "3. Die Lernrate $\\alpha$ soll im Verlauf der Zeit verkleinert werden, um die Eingrenzung genauer zu machen.\n",
    "\n",
    "Unter der Berücksichtigung der Punkte 1, 2 und 3 ergibt sich die $\\mathbf{Delta-Regel}$ $\\Delta a$, mit dem man neue Gewichte \n",
    "$$\n",
    "w_i^{neu} = w_i^{ist} - \\alpha \\cdot \\Delta a_i \\cdot x_i   \\quad \\mbox{f\"ur } i=0,1,2\n",
    "$$\n",
    "berechnen kann. Der Faktor $\\alpha\\cdot \\Delta a\\cdot x_i$ lässt sich als Änderungsrate im Gewicht $w_i$ verstehen und wird als \n",
    "$$\n",
    "\\Delta w_i = \\alpha \\cdot \\Delta a \\cdot x_i\n",
    "$$\n",
    "notiert. Die Fragestellung lässt sich dann als lernen durch die $\\mathbf{Anpassungen}\\, \\Delta w_i\\, \\mathbf{der \\, Gewichte}$ erstehen."
   ]
  },
  {
   "cell_type": "markdown",
   "metadata": {},
   "source": [
    "<div class=\"alert alert-block alert-danger\">\n",
    "\n",
    "### Beispiel\n",
    "Für dieses Beispiel setzen wir $\\alpha = 1$. Es ist $\\Delta a = a^{soll} - a^{ist} = 0-1 = -1$. Damit folgt\n",
    "\n",
    "\\begin{eqnarray}\n",
    "w_1^{neu} &=& w_1^{alt} + \\alpha \\cdot \\Delta a\\cdot x_1\n",
    "\\\\\n",
    "&=& 1 + 1\\cdot (-1) \\cdot 0.7\n",
    "\\\\\n",
    "&=& 0.30\n",
    "\\end{eqnarray}\n",
    "\n",
    "\\begin{eqnarray}\n",
    "w_2^{neu} &=& w_2^{alt} + \\alpha \\cdot \\Delta a\\cdot x_1\n",
    "\\\\\n",
    "&=& 0.8 + 1\\cdot (-1) \\cdot 0.25\n",
    "\\\\\n",
    "&=& 0.55\n",
    "\\end{eqnarray}\n",
    "\n",
    "\\begin{eqnarray}\n",
    "w_0^{neu} &=& w_0^{alt} + \\alpha \\cdot \\Delta a\\cdot x_1\n",
    "\\\\\n",
    "&=& -0.5 + 1\\cdot (-1) \\cdot 1\n",
    "\\\\\n",
    "&=& -1.5\n",
    "\\end{eqnarray}\n",
    "\n",
    "Als Neuron sieht es so aus:\n",
    "$$\n",
    "\\begin{array}{ccccccc}\n",
    "1 & \\rightarrow & -1.5 & & & & \n",
    "\\\\\n",
    "& & & \\searrow & & & \n",
    "\\\\\n",
    "0.7 & \\rightarrow & 0.3 & \\rightarrow & \\Sigma = -1.1525 & \\rightarrow & a^{ist} = 0\\, .\n",
    "\\\\\n",
    "& & & \\nearrow & & &\n",
    "\\\\\n",
    "0.25 & \\rightarrow & 0.55 & & & &\n",
    "\\end{array}\n",
    "$$\n",
    "Hier ergibt sich also das gewünschte Ergebnis.\n",
    "\n",
    "Zu prüfen ist jedoch, ob ein analoges Ergebnis auch für alle anderen Personen gilt. Dies werden wir für die Beispiele der Frau $F_1$ und des Mannn $M_4$ durchführen. Bei $F_1$ muss $a=0$ gelten, bei $M_4$ muss $a=1$ gelten. Für die Eingangsgewichte gilt\n",
    "\n",
    "$$\n",
    "w = \\left(\n",
    "\\begin{array}{c}\n",
    "w_0 \\\\ w_1 \\\\ w_2\n",
    "\\end{array}\n",
    "\\right)\n",
    "=\n",
    "\\left(\n",
    "\\begin{array}{c}\n",
    "-1.5 \\\\ 0.3 \\\\ 0.55\n",
    "\\end{array}\n",
    "\\right)\n",
    ".\n",
    "$$\n",
    "\n",
    "Bei $F_1$ gilt $x = \\left( \\begin{array}{c} 1 \\\\ 0.66 \\\\ 0.25\\end{array} \\right)$, und es folgt\n",
    "\n",
    "$$\n",
    "\\sum_{i=0}^2 x_i \\cdot w_i = 1 \\cdot (-1.5) + 0.66 \\cdot 0.3 + 0.25 \\cdot 0.55 = -1.1645\\, ,\n",
    "$$\n",
    "womit folgt:\n",
    "\n",
    "$$\n",
    "\\begin{array}{ccccccc}\n",
    "1 & \\rightarrow & -1.5 & & & & \n",
    "\\\\\n",
    "& & & \\searrow & & & \n",
    "\\\\\n",
    "0.66 & \\rightarrow & 0.3 & \\rightarrow & \\Sigma = -1.1645 & \\rightarrow & a^{ist} = 0\\, .\n",
    "\\\\\n",
    "& & & \\nearrow & & &\n",
    "\\\\\n",
    "0.25 & \\rightarrow & 0.55 & & & &\n",
    "\\end{array}\n",
    "$$\n",
    "\n",
    "Dieses Ergebis stimmt. Für $M_4$ ist\n",
    "\n",
    "$$\n",
    "\\sum_{i=0}^2 x_i \\cdot w_i = 1 \\cdot -1.5 + 0.82 \\cdot 0.3 + 0.50 \\cdot 0.55 = -0.979\\, ,\n",
    "$$\n",
    "womit folgt:\n",
    "\n",
    "$$\n",
    "\\begin{array}{ccccccc}\n",
    "1 & \\rightarrow & -1.5 & & & & \n",
    "\\\\\n",
    "& & & \\searrow & & & \n",
    "\\\\\n",
    "0.82 & \\rightarrow & 0.3 & \\rightarrow & \\Sigma = -0.979 & \\rightarrow & a^{ist} = 0\\, .\n",
    "\\\\\n",
    "& & & \\nearrow & & &\n",
    "\\\\\n",
    "0.50 & \\rightarrow & 0.55 & & & &\n",
    "\\end{array}\n",
    "$$\n",
    "\n",
    "Hierbei handelt es sich um ein falsches Ergebnis. Die Parameter müssen also verändert werden."
   ]
  },
  {
   "cell_type": "markdown",
   "metadata": {},
   "source": [
    "<div class=\"alert alert-block alert-info\"> \n",
    "\n",
    "## Algorithmus des Perzeptron-Lernschritts zur Anpassung von Gewichten\n",
    "\n",
    "1. Gegeben sind\n",
    "$$\n",
    "\\vec{x} = \\left(\\begin{array}{c}\n",
    "x_0 \\\\ x_1 \\\\ x_2\n",
    "\\end{array}\\right) \\quad \\mbox{und} \\quad W^{ist} = \\left(\n",
    "\\begin{array}{c}\n",
    "w_0^{ist} \\quad w_1^{ist} \\quad w_2^{ist}\n",
    "\\end{array}\n",
    "\\right)\n",
    "\\quad \\mbox{sowie} \\quad a^{soll}\\, .\n",
    "$$\n",
    "\n",
    "2. Berechne $a^{ist}$:\n",
    "\n",
    "<img src=\"algLernschritt01.jpg\" width=400 height=400 />\n",
    "\n",
    "\n",
    "3. Ist $a^{ist} = a^{soll}$, ist der Vorgang abgeschlossen.\n",
    "\n",
    "4. Ist $\\Delta a = a^{soll} - a^{ist}\\neq 0$, dann berechne\n",
    "$$\n",
    "\\Delta w_0 = \\Delta a \\cdot x_0 \\, ,\n",
    "$$\n",
    "$$\n",
    "\\Delta w_1 = \\Delta a \\cdot x_1 \\, ,\n",
    "$$\n",
    "$$\n",
    "\\Delta w_2 = \\Delta a \\cdot x_2 \\, .\n",
    "$$\n",
    "\n",
    "5. Berechne\n",
    "$$\n",
    "w_0^{neu} = w_0^{ist} - \\Delta w_0\\, ,\n",
    "$$\n",
    "$$\n",
    "w_1^{neu} = w_1^{ist} - \\Delta w_1\\, ,\n",
    "$$\n",
    "$$\n",
    "w_2^{neu} = w_2^{ist} - \\Delta w_2\\, .\n",
    "$$\n",
    "\n",
    "6. Setze $w_i^{ist} := w_i^{neu}$ und gehe zur\"uck zu Schritt 3."
   ]
  },
  {
   "cell_type": "markdown",
   "metadata": {},
   "source": [
    "<div class=\"alert alert-block alert-warning\"> \n",
    "\n",
    "### Aufgabe 10\n",
    "Setze den Algorithmus mit Python für $x_0 =1$ und unterschiedliche Tupel $(x_1; x_2)$ von Frauen und Männern von oben um."
   ]
  },
  {
   "cell_type": "markdown",
   "metadata": {},
   "source": [
    "<div class=\"alert alert-block alert-success\"> \n",
    "\n",
    "#### Lösung der Aufgabe 10\n",
    "Die Berechnung wird für einzelne Vektoren $\\vec{x}$ durchgeführt. $W^{ist}$ wird dabei als array definiert. Für den Beginn wird erstmal $a_{soll}=1$ gesetzt."
   ]
  },
  {
   "cell_type": "code",
   "execution_count": 41,
   "metadata": {},
   "outputs": [
    {
     "name": "stdout",
     "output_type": "stream",
     "text": [
      "-1.0\n",
      "-0.2700000000000001\n",
      "0.0\n",
      "1.0\n"
     ]
    }
   ],
   "source": [
    "# Hier wird die x_0-Koordinate definiert. Da es sich immer um dieselbe Koordinate handelt, wird sie nur einmal notiert.\n",
    "x0 = 1\n",
    "\n",
    "# Hier werden bestimmte Tupel x_1, x_2 definiert.\n",
    "x1 = 0.66 \n",
    "x2 = 0.25\n",
    "\n",
    "# Hier werden die w-Werte definiert. Dabei wird w0 = - phi definiert.\n",
    "w0 = -0.4\n",
    "w1 = -1.0\n",
    "w2 = 0.8\n",
    "\n",
    "# Hier wird die Matrix W_ist definiert.\n",
    "W_ist = np.array([[w0, w1, w2]])\n",
    "# Hier wird ein Wert als Beispiel ausgegeben.\n",
    "print(W_ist[0][1])\n",
    "\n",
    "# Hier wird der Vektor x definiert.\n",
    "x = np.array([[1],[0.15],[0.35]])\n",
    "\n",
    "# Sigma wird berechnet.\n",
    "# Obwohl es ein einzelner Wert ist, handelt es sich um einen Vektor, da er als Produkt von Vektoren definiert ist.\n",
    "Sigma = np.dot(W_ist,x)\n",
    "print(Sigma[0][0])\n",
    "\n",
    "# Die Ausgabefunktion wird definiert.\n",
    "# Ausgabefunktion für Zählung\n",
    "def f_aus(x):\n",
    "    if x < 0:\n",
    "        return 0.\n",
    "    else:\n",
    "        return 1.\n",
    "\n",
    "# Damit ergibt sich a_ist\n",
    "a_ist = f_aus(Sigma)\n",
    "print(a_ist)\n",
    "\n",
    "# Es wird a_soll definiert\n",
    "a_soll = 1.\n",
    "print(a_soll)"
   ]
  },
  {
   "cell_type": "code",
   "execution_count": 42,
   "metadata": {},
   "outputs": [
    {
     "name": "stdout",
     "output_type": "stream",
     "text": [
      "1.0\n"
     ]
    }
   ],
   "source": [
    "# Delta a wird definiert und ausgegeben\n",
    "Delta_a = a_soll-a_ist\n",
    "print(Delta_a)\n",
    "# Da nachher einzelne Elemente der Matrix berechnet werden, ist W_neu erst einmal \"leer\" zu definieren.\n",
    "W_neu = np.array([[0., 0., 0.]])"
   ]
  },
  {
   "cell_type": "code",
   "execution_count": 43,
   "metadata": {},
   "outputs": [
    {
     "name": "stdout",
     "output_type": "stream",
     "text": [
      "[[-1.4  -1.15  0.45]]\n"
     ]
    }
   ],
   "source": [
    "# Hier werden die Delta-Werte berechnet\n",
    "Delta_w00 = Delta_a*x[0]\n",
    "Delta_w01 = Delta_a*x[1]\n",
    "Delta_w02 = Delta_a*x[2]\n",
    "\n",
    "W_neu[0][0] = W_ist[0][0]-Delta_w00\n",
    "W_neu[0][1] = W_ist[0][1]-Delta_w01\n",
    "W_neu[0][2] = W_ist[0][2]-Delta_w02\n",
    "\n",
    "# Hier wird die Matrix W_neu ausgegeben\n",
    "print(W_neu)"
   ]
  },
  {
   "cell_type": "markdown",
   "metadata": {},
   "source": [
    "<div class=\"alert alert-block alert-success\"> \n",
    "\n",
    "An dieser Stelle ist man mit Punkt 6 durch und geht zurück zu Punkt 1.\n",
    "\n",
    "$\\Box$"
   ]
  },
  {
   "cell_type": "markdown",
   "metadata": {},
   "source": [
    "<div class=\"alert alert-block alert-danger\"> \n",
    "\n",
    "Wie sich bei Aufgabe 10 zeigt, sind die Sprünge stark von der Aktivierungsfunktion abhängig. Bei den bisher verwendeten Funktionen machten die Funktionswerte an einzelnen Stellen große Sprünge. Dies jedoch kann von Nachteil für bestimmte Fragestellungen sein. Daher macht es evtl. Sinn, andere Funktionen als Ausgabefunktionen anzuwenden. Wir werden im Folgenden häufiger verwendete Ausgabefunktionen betrachten und sie später uaf ein weiteres Beispiel anwenden."
   ]
  },
  {
   "cell_type": "markdown",
   "metadata": {},
   "source": [
    "<div class=\"alert alert-block alert-danger\">\n",
    "\n",
    "# Mehrschichtige neuronale Netze"
   ]
  },
  {
   "cell_type": "markdown",
   "metadata": {},
   "source": [
    "<div class=\"alert alert-block alert-danger\">\n",
    "\n",
    "### Logische Operationen"
   ]
  },
  {
   "cell_type": "code",
   "execution_count": 44,
   "metadata": {},
   "outputs": [],
   "source": [
    "# Zunächst werden Pakete importiert.\n",
    "import numpy as np\n",
    "import matplotlib.pyplot as plt"
   ]
  },
  {
   "cell_type": "markdown",
   "metadata": {},
   "source": [
    "<div class=\"alert alert-block alert-danger\"> \n",
    "\n",
    "Es folgt die"
   ]
  },
  {
   "cell_type": "markdown",
   "metadata": {},
   "source": [
    "<div class=\"alert alert-block alert-info\"> \n",
    "\n",
    "### Definition von Variablen und Parametern des Neurons\n",
    "\n",
    "In Python lässt sich Neuron folgendermaßen definieren. Zu beachten ist, dass $W_{ist}$ als array mit einer Zeile definiert ist. $\\vec{x}$ ist als array einer Spalte definiert."
   ]
  },
  {
   "cell_type": "markdown",
   "metadata": {},
   "source": [
    "<div class=\"alert alert-block alert-warning\"> \n",
    "\n",
    "### Aufgabe 11\n",
    "Notiere in den Zeilen mit # die Bedeutung der folgenden Zeilen/Funktionen."
   ]
  },
  {
   "cell_type": "code",
   "execution_count": 45,
   "metadata": {},
   "outputs": [
    {
     "name": "stdout",
     "output_type": "stream",
     "text": [
      "1.0\n",
      "0.0\n",
      "1.0\n",
      "1.0\n"
     ]
    }
   ],
   "source": [
    "# \n",
    "x0 = 1\n",
    "\n",
    "# \n",
    "x1 = 0.66 \n",
    "x2 = 0.25\n",
    "\n",
    "# \n",
    "w0 = -0.5\n",
    "w1 = 1\n",
    "w2 = 1\n",
    "\n",
    "# \n",
    "W_ist = np.array([[w0, w1, w2]])\n",
    "# \n",
    "print(W_ist[0][1])\n",
    "\n",
    "# \n",
    "x = np.array([[1],[0.15],[0.35]])\n",
    "\n",
    "# \n",
    "Sigma = np.dot(W_ist,x)\n",
    "print(Sigma[0][0])\n",
    "\n",
    "# \n",
    "def f_aus(x):\n",
    "    if x < 0:\n",
    "        return 0.\n",
    "    else:\n",
    "        return 1.\n",
    "\n",
    "# \n",
    "a_ist = f_aus(Sigma)\n",
    "print(a_ist)\n",
    "\n",
    "# \n",
    "a_soll = 1.\n",
    "print(a_soll)"
   ]
  },
  {
   "cell_type": "markdown",
   "metadata": {},
   "source": [
    "<div class=\"alert alert-block alert-success\"> \n",
    "\n",
    "#### Lösung von Aufgabe 11\n",
    "Das folgende Programm enthält Notizen."
   ]
  },
  {
   "cell_type": "code",
   "execution_count": 46,
   "metadata": {},
   "outputs": [
    {
     "name": "stdout",
     "output_type": "stream",
     "text": [
      "1.0\n",
      "0.0\n",
      "1.0\n",
      "1.0\n"
     ]
    }
   ],
   "source": [
    "# Hier wird die x_0-Koordinate definiert. Da es sich immer um dieselbe Koordinate handelt, wird sie nur einmal notiert.\n",
    "x0 = 1\n",
    "\n",
    "# Hier werden bestimmte Tupel x_1, x_2 definiert.\n",
    "x1 = 0.66 \n",
    "x2 = 0.25\n",
    "\n",
    "# Hier werden die w-Werte definiert. Dabei wird w0 = - phi definiert.\n",
    "w0 = -0.5\n",
    "w1 = 1\n",
    "w2 = 1\n",
    "\n",
    "# Hier wird die Matrix W_ist definiert.\n",
    "W_ist = np.array([[w0, w1, w2]])\n",
    "# Hier wird ein Wert als Beispiel ausgegeben.\n",
    "print(W_ist[0][1])\n",
    "\n",
    "# Hier wird der Vektor x definiert.\n",
    "x = np.array([[1],[0.15],[0.35]])\n",
    "\n",
    "# Sigma wird berechnet.\n",
    "# Obwohl es ein einzelner Wert ist, handelt es sich um einen Vektor, da er als Produkt von Vektoren definiert ist.\n",
    "Sigma = np.dot(W_ist,x)\n",
    "print(Sigma[0][0])\n",
    "\n",
    "# Die Ausgabefunktion wird definiert.\n",
    "# Ausgabefunktion für Zählung\n",
    "def f_aus(x):\n",
    "    if x < 0:\n",
    "        return 0.\n",
    "    else:\n",
    "        return 1.\n",
    "\n",
    "# Damit ergibt sich a_ist\n",
    "a_ist = f_aus(Sigma)\n",
    "print(a_ist)\n",
    "\n",
    "# Es wird a_soll definiert\n",
    "a_soll = 1.\n",
    "print(a_soll)"
   ]
  },
  {
   "cell_type": "markdown",
   "metadata": {},
   "source": [
    "<div class=\"alert alert-block alert-success\"> \n",
    "$\\Box$"
   ]
  },
  {
   "cell_type": "markdown",
   "metadata": {},
   "source": [
    "<div class=\"alert alert-block alert-warning\"> \n",
    "\n",
    "### Aufgabe 12\n",
    "\n",
    "Mithilfe der folgenden beiden Blöcke werden Geraden in ein Koordinatensystem gezeichnet. Notiere an einigen Stellen die Bedeutungen der Befehle."
   ]
  },
  {
   "cell_type": "code",
   "execution_count": 47,
   "metadata": {},
   "outputs": [
    {
     "data": {
      "text/plain": [
       "[]"
      ]
     },
     "execution_count": 47,
     "metadata": {},
     "output_type": "execute_result"
    },
    {
     "data": {
      "image/png": "[encoded data removed]",
      "text/plain": [
       "<Figure size 432x288 with 1 Axes>"
      ]
     },
     "metadata": {
      "needs_background": "light"
     },
     "output_type": "display_data"
    }
   ],
   "source": [
    "fig, ax = plt.subplots()\n",
    "xmin, xmax = -0.2, 1.2\n",
    "X = np.arange(xmin, xmax, 0.1)\n",
    "ax.set_xlim([xmin, xmax])\n",
    "ax.set_ylim([xmin, xmax])\n",
    "for a in np.arange(-1, 0, 0.2):\n",
    "    for b in np.arange(0, 2, 0.2):\n",
    "        ax.plot(X, a * X + b)\n",
    "\n",
    "ax.scatter(0, 0, color=\"r\")\n",
    "ax.scatter(0, 1, color=\"r\")\n",
    "ax.scatter(1, 0, color=\"r\")\n",
    "ax.scatter(1, 1, color=\"g\")\n",
    "plt.plot()"
   ]
  },
  {
   "cell_type": "code",
   "execution_count": 48,
   "metadata": {},
   "outputs": [
    {
     "data": {
      "text/plain": [
       "[]"
      ]
     },
     "execution_count": 48,
     "metadata": {},
     "output_type": "execute_result"
    },
    {
     "data": {
      "image/png": "[encoded data removed]",
      "text/plain": [
       "<Figure size 432x288 with 1 Axes>"
      ]
     },
     "metadata": {
      "needs_background": "light"
     },
     "output_type": "display_data"
    }
   ],
   "source": [
    "fig, ax = plt.subplots()\n",
    "xmin, xmax = -0.2, 1.2\n",
    "ymin, ymax = -0.2, 2\n",
    "X = np.arange(xmin, xmax, 0.1)\n",
    "ax.set_xlim([xmin, xmax])\n",
    "ax.set_ylim([ymin, ymax])\n",
    "\n",
    "# Hier wird w0 definiert. Dabei wird w0 = - phi definiert.\n",
    "w0 = -0.5\n",
    "\n",
    "for w1 in np.arange(0.1, 1.1, 0.2):\n",
    "    for w2 in np.arange(0.3, 1.1, 0.2):\n",
    "        ax.plot(X, -w1/w2 * X - w0/w2)\n",
    "\n",
    "ax.scatter(0, 0, color=\"r\")\n",
    "ax.scatter(0, 1, color=\"r\")\n",
    "ax.scatter(1, 0, color=\"r\")\n",
    "ax.scatter(1, 1, color=\"g\")\n",
    "plt.plot()"
   ]
  },
  {
   "cell_type": "markdown",
   "metadata": {},
   "source": [
    "<div class=\"alert alert-block alert-warning\"> \n",
    "\n",
    "### Aufgabe 13\n",
    "(Zwei Varianten zur Binnendifferenzierung.)\n",
    "\n",
    "#### Version 1\n",
    "Simplere Fragestellung (Problemlösen, Abläufe mit Algorithmen modellieren, Niveau F, G):\n",
    "1. Zeichne die Geraden mit unterschiedlichen Parametern,\n",
    "2. Erkläre Verbindungen zwischen den Parametern $w_0, w_1, w_2$ und den Geraden im Graphen.\n",
    "3. Erkläre, warum $W_1=(-0.5\\quad 1 \\quad 1)$ und $x_0=1$ eine OR-Funktion und $W_2=(-1.5\\quad 1 \\quad 1)$ und $x_0=1$ eine AND-Funktion repr\"asentieren können.\n",
    "4. Begründe: \"Entweder-oder\" bzw. \"XOR\" lässt sich mithilfe gemeinsamer Anwendung von $W_1$ und $W_2$ beschreiben.\n",
    "5. Erkläre, dass sich sich XOR mit bisherigen Perzeptronen nicht beschreiben lässt.\n",
    "\n",
    "#### Version 2\n",
    "Komplexere Fragestellung (Problemlösen, Abläufe mit Algorithmen modellieren, Niveau G, H):\n",
    "1. Zeichne die Graphen mit unterschiedlichen Parametern.\n",
    "2. Ziehe Rückschlüsse auf AND und OR. Welche Bedingungen müssen w0, w1 und w2 erfüllen, damit diese Entscheidungen getroffen werden können?\n",
    "3. Wie lässt sich an diesen Graphen \"Entweder-oder\" bzw. \"XOR\" beschreiben?\n",
    "4. Diskutiere mit deinen Nachbarinnen und Nachbarn über die Darstellung von XOR durch ein Perceptron. Wie lassen sich Mängel beseitigen?"
   ]
  },
  {
   "cell_type": "markdown",
   "metadata": {},
   "source": [
    "<div class=\"alert alert-block alert-danger\">\n",
    "    \n",
    "## Hidden Layers"
   ]
  },
  {
   "cell_type": "markdown",
   "metadata": {},
   "source": [
    "<div class=\"alert alert-block alert-danger\">\n",
    "    \n",
    "Bisherige Ergebnisse sagen aus, dass das Neuron unter Umständen nicht aus einer einzigen Schicht bestehen kann, sondern mehrere Schichten -- sogenannte Layer -- nacheinander durchlaufen werden müssen, wobei unter Umständen mehrere Verbindungen zwischen aufeinander folgende Schichten notwendig sind. Außerdem muss es nicht so sein, dass die Zwischenschritte komplett sichtbar sind. Beispielsweise erscheint bei XOR lediglich das Endergebnis, nicht einer der Zwischenschritte, von Interesse einer außerhalb der XOR-Umgebung liegenden Teile des $\\mathbb{R}^2$ abgeschnitten wurde. Solche Schichten sind sogenannte Hidden Layers. Hidden Layers helfen bei der Lösung oben notierter Probleme.\n",
    "\n",
    "Durch Anwendung von Hidden Layers lassen sich das in Verbindung mit XOR-Operation aufgetretene Problem eines Neurons beseitigen. Analog zu oben betrachten wir bei der Trennung der $x$-$y$-Ebene mithilfe der Geraden $g_1\\colon\\, x_1 + x_2 =1, \\! 5$ und $g_2\\colon\\, x_1 + x_2 =0, \\! 5$. Das Neuron der XOR-Umgebung besitzt dabei die folgende Struktur:\n",
    "\n",
    "<img src=\"hidden01.jpg\" width=500 height=500 />\n",
    "\n",
    "mit $W_1^{(1)} = (w_{10}^{(1)} \\quad w_{11}^{(1)} \\quad w_{12}^{(1)})$ und $\\vec{x} = \\left( \\begin{array}{c} x_{10} \\\\ x_{11} \\\\ x_{12} \\end{array}\\right)$. Zusätzlich gilt\n",
    "\\begin{eqnarray*}\n",
    "\\Sigma_{21} &=& W_1^{(1)} \\odot \\vec{x}_1 = w_{10}^{(1)} \\cdot x_{10} + w_{11}^{(1)} \\cdot x_{11} + w_{12}^{(1)} \\cdot x_{12} \\mbox{ und}\n",
    "\\\\\n",
    "\\Sigma_{22} &=& W_2^{(1)} \\odot \\vec{x}_1 = w_{20}^{(1)} \\cdot x_{10} + w_{21}^{(1)} \\cdot x_{11} + w_{22}^{(1)} \\cdot x_{12} \\, .\n",
    "\\end{eqnarray*}\n",
    "Außerdem sind $\\vec{x}_2 = \\left(\\begin{array}{c} x_{21} \\\\ x_{21} \\\\ x_{22} \\end{array}\\right)$ und $W^{(2)} = \\left( w_{10}^{(2)} \\quad w_{11}^{(2)} \\quad w_{12}^{(2)}  \\right)$.\n",
    "Die Gewichte haben im Neuron folgende Bedeutungen:\n",
    "\n",
    "1. Die <span style=\"color:red\">roten Gewichte</span> stehen in Verbindung mit dem Bereich <span style=\"color:red\">unterhalb von $g_1\\colon\\, x_1 + x_2 =1, \\! 5$</span>.\n",
    "\n",
    "2. Die <span style=\"color:green\">grünen Gewichte</span> stehen in Verbindung mit dem Bereich <span style=\"color:green\">oberhalb der Gerade $g_2\\colon\\, x_1 + x_2 =0, \\! 5$</span>.\n",
    "\n",
    "3. Die <span style=\"color:blue\">blau-farbigen Gewichte</span> Anteil des Graphen befasst sich dann damit, ob die betrachtete Position <span style=\"color:blue\">zwischen den Geraden $g_1$ und $g_2$</span> liegt.\n",
    "\n",
    "\n",
    "Die Bezeichnungen enthalten hier mehrere Indizes. Bei $x_{ij}$ bezeichnet $i$ den Layer, in dem dieser Eintrag steht. Die $x_{1j}$ sind dabei die Eingänge, die wir bisher einfach durch $x_j$ bezeichnet haben. In Zukunft kommen wir jedoch nicht länger mit einem Index aus. $x_{21}$, $x_{22}$ und $x_{31}$ bezeichnen dabei die gewichteten Summen $\\Sigma$ und und die Ausgabefunktionen $f$ der Zwischenschritte, sind daher in einer analogen Box zu früher notiert:\n",
    "\\begin{eqnarray*}\n",
    "x_{21} &=& f \\left( \\Sigma_{21} \\right)\n",
    "= f(w_{10}^{(1)} \\cdot x_{10} + w_{11}^{(1)} \\cdot x_{11} + w_{12}^{(1)} \\cdot x_{12} ) \\quad\\mbox{und}\n",
    "\\\\\n",
    "x_{22} &=& f \\left( \\Sigma_{22} \\right)\n",
    "= f( w_{20}^{(1)} \\cdot x_{10} + w_{11}^{(1)} \\cdot x_{11} + w_{22}^{(1)} \\cdot x_{12}  )\\, .\n",
    "\\end{eqnarray*}\n",
    "Auf den genauen Aufbau dieser Komponenten werden wir an entsprechenden Stellen genauer eingehen.\n",
    "\n",
    "Die $w_{ij}^{(k)}$ bezeichnen die Gewichte im Neuron. Dabei bezeichnet $k$ die Nummer des Schritts. Die Schritte sind dabei mit dem Beginn 1 notiert. Der Zähler $j$ steht in Verbindung mit dem Zähler $j$ bei den $x_{ij}$, bei dem $w_{ij}^{(k)}$ \\textbf{startet}.\n",
    "Mit dieser Schreibweise gilt für unser Beispiel:\n",
    "\n",
    "$x_{10} = x_{20} = 1$ \\quad und \\quad $x_{11}, x_{12}\\in \\{0; 1\\}$.\n",
    "\n",
    "Sie lassen sich als Vektoren notieren:\n",
    "$$\n",
    "\\vec{x}_{1} = \\left(\\begin{array}{c} x_{10} \\\\ x_{11} \\\\ x_{12}\\end{array}\\right)\n",
    "\\quad \\mbox{und}\\quad \n",
    "\\vec{x}_{2} = \\left(\\begin{array}{c} x_{20} \\\\ x_{21} \\\\ x_{22}\\end{array}\\right).\n",
    "$$\n",
    "\t\n",
    "Die Gewichte sind hier gleich:\n",
    "\n",
    "\n",
    "<span style=\"color:red\">$w_{10}^{(1)}= 1,\\! 5$, $w_{11}^{(1)}= -1$, $w_{12}^{(1)}= -1$</span>\n",
    "    \n",
    "<span style=\"color:green\">$w_{20}^{(1)}=0,\\! 5$, $w_{21}^{(1)}=-1$, $w_{22}^{(1)}=-1$</span>\n",
    "\n",
    "<span style=\"color:blue\">$w_{10}^{(2)}=-1$, $w_{11}^{(2)}=\\frac{2}{3}$, $w_{12}^{(2)}=\\frac{2}{3}$</span>\n",
    "\n",
    "\n",
    "Die zugehörigen Tripel der drei Spalten lassen sich als Vektoren notieren:\n",
    "\n",
    "\n",
    "<span style=\"color:red\">\n",
    "$$\\vec{w}_1 = \\left( w_{10}^{(1)} \\quad w_{11}^{(1)} \\quad w_{12}^{(1)}\\right) = \\left( 1,\\! 5\n",
    "\\quad\n",
    "-1\n",
    "\\quad\n",
    "-1\n",
    "\\right)$$</span>\n",
    "\n",
    "<span style=\"color:green\">\n",
    "$$\\vec{w}_2 = \\left( w_{20}^{(1)} \\quad w_{21}^{(1)} \\quad w_{22}^{(1)} \\right) = \\left( 0,\\! 5 \\quad -1 \\quad -1 \\right)$$\n",
    "</span>\n",
    "\n",
    "<span style=\"color:blue\">\n",
    "$$\\vec{w}_3 = \\left( w_{10}^{(2)} \\quad w_{11}^{(2)} \\quad w_{12}^{(2)} \\right) = \\textstyle \\left(\n",
    "-1 \\quad \\frac{2}{3} \\quad \\frac{2}{3} \\right)$$\n",
    "</span>"
   ]
  },
  {
   "cell_type": "markdown",
   "metadata": {},
   "source": [
    "<div class=\"alert alert-block alert-warning\"> \n",
    "\n",
    "### Aufgabe 14\n",
    "Schreibe die Summen aus:\n",
    "$\\Sigma_{21} = W_1^{(1)} \\odot \\vec{x}_1$ und $\\Sigma_{22} = W_2^{(1)} \\odot \\vec{x}_1$, indem du $W_1^{(1)}$ und $W_2^{(1)}$ einsetzt und das Produkt ausmultiplizierst."
   ]
  },
  {
   "cell_type": "markdown",
   "metadata": {},
   "source": [
    "<div class=\"alert alert-block alert-warning\"> \n",
    "\n",
    "### Aufgabe 15\n",
    "Die Möglichkeiten für $\\vec{x}_1$ lassen sich wie früher tabellarisch notieren:\n",
    "\n",
    "\\begin{equation}\n",
    "\\begin{array}{c|c|c|c|c|c|c}\n",
    "x_{10} & x_{11} & x_{12} & \\Sigma_{21} & x_{21} & \\Sigma_{22} & x_{22}\n",
    "\\\\\n",
    "\\hline\n",
    "1 & 0 & 0 & & & &\n",
    "\\\\\n",
    "\\hline\n",
    "1 & 1 & 0 & & & &\n",
    "\\\\\n",
    "\\hline\n",
    "1 & 0 & 1 & & & &\n",
    "\\\\\n",
    "\\hline\n",
    "1 & 1 & 1 & & & &\n",
    "\\end{array}\n",
    "\\end{equation}\n",
    "\n",
    "a) Ergänze die Tabelle um $\\Sigma_{21} = W^{(1)}_1 \\odot \\vec{x}_1$ und $\\Sigma_{22} = W^{(1)}_2 \\odot \\vec{x}_1$\n",
    "\n",
    "b) Trage\n",
    "$$\n",
    "f(\\Sigma) = \\left\\{ \\begin{array}{ll} 0 & \\mbox{ für } \\Sigma < 0\\, , \\\\ 1 & \\mbox{ für } \\Sigma \\geq 0\\, . \\end{array}\\right.\n",
    "$$\n",
    "für $\\Sigma_{21}$ und $\\Sigma_{22}$ in die Tabelle ein.\n",
    "\n",
    "c) Führe die Berechnungen aus den Aufgabenteilen a) und b) für das Schema fort und bestimme $a^{ist}$.\n",
    "\n",
    "d) Ersetze die Aktivierungsfunktion in Teil b) durch die Exponentialfunktion $f_2$ zur Basis 2 mit\n",
    "$$\n",
    "f_{2} (x) = \\frac{1}{1+ 2^{-x}}\\, .\n",
    "$$\n",
    "Erkläre die Unterschiede zu den Ergebnissen aus den Teilen b) und c). Wie lässt sich das Ergebnis in die gewünschte Form bringen?\n"
   ]
  },
  {
   "cell_type": "markdown",
   "metadata": {},
   "source": [
    "<div class=\"alert alert-block alert-danger\">\n",
    "\n",
    "### XOR-Operation\n",
    "\n",
    "Um die XOR-Operation in Python umzusetzen, verwenden wir zum Start des Verfahrens Zufallszahlen für die Gewichtsmatrix.\n",
    "\n",
    "Wir greifen dabei auf die folgenden Aktivierungsfunktionen zurück:\n",
    "\n",
    "a)  $f (x) = \\displaystyle \\frac{1}{1+e^{-x}}$.\n",
    "\n",
    "b) $f (x) = \\displaystyle \\frac{1}{1+2^{-x}}$.\n",
    "\n",
    "und verzichten auf $x_{10}$."
   ]
  },
  {
   "cell_type": "markdown",
   "metadata": {},
   "source": [
    "<div class=\"alert alert-block alert-warning\"> \n",
    "\n",
    "### Aufgabe 16\n",
    "Folge den Schritten 1 bis 7. Veranschauliche dir dabei die einzelnen Schritte.\n",
    "Was hat dies mit der XOR-Operation zu tun?"
   ]
  },
  {
   "cell_type": "markdown",
   "metadata": {},
   "source": [
    "<div class=\"alert alert-block alert-success\"> \n",
    "\n",
    "##### Bearbeitung von Aufgabe 16\n",
    "\n",
    "Die folgende Lösung geht auf eine andere Art als oben notiert heran und bietet an, auch Backward zu arbeiten.\n",
    "\n",
    "1. Zunächst Pakete laden"
   ]
  },
  {
   "cell_type": "code",
   "execution_count": 49,
   "metadata": {},
   "outputs": [],
   "source": [
    "import numpy as np\n",
    "import matplotlib.pyplot as plt"
   ]
  },
  {
   "cell_type": "markdown",
   "metadata": {},
   "source": [
    "<div class=\"alert alert-block alert-success\"> \n",
    "\n",
    "2. Definition von Variablen und Parametern des Neurons"
   ]
  },
  {
   "cell_type": "code",
   "execution_count": 50,
   "metadata": {},
   "outputs": [
    {
     "name": "stdout",
     "output_type": "stream",
     "text": [
      "[[0.4359949  0.02592623]\n",
      " [0.54966248 0.43532239]]\n",
      "[[0.4203678  0.33033482]]\n"
     ]
    }
   ],
   "source": [
    "# Hier werden die Input Layer  für XOR definiert:\n",
    "x = np.array([[0,0,1,1],[0,1,0,1]])\n",
    "# Die vier Ausgänge der verschiedenen Input Layer können folgendermaßen aussehen:\n",
    "a_ist = np.array([[0,1,1,0]])\n",
    "# Es gibt zwei Neuronen x_1 und x_2 bei den Inputs:\n",
    "n_x = 2\n",
    "# Es gibt ein Neuron a^ist beim Outputs:\n",
    "n_ist = 1\n",
    "# In der Mitte bleibt folgende von Neuronen verborgen (hidden layer):\n",
    "n_h = 2\n",
    "# Anzahl der Beispiele zum Trainig:\n",
    "m = x.shape[1]\n",
    "# Lernrate\n",
    "alpha = 0.1\n",
    "# Zwei Startwerte (seed) werden als Zufallszahlen definiert:\n",
    "np.random.seed(2)\n",
    "# Hier werden die Elemente der Gewichtsmatrix W_ist definiert. Es sind Zufallszahlen;\n",
    "W1 = np.random.rand(n_h,n_x)   # Gewichtsmatrix im Hidden Layer\n",
    "W2 = np.random.rand(n_ist,n_h)   # Gewichtsmatrix im Output Layer\n",
    "\n",
    "# Die Matrizen werden ausgegeben\n",
    "print(W1)\n",
    "print(W2)\n",
    "\n",
    "# I didnt use bias units\n",
    "# We will use this list to accumulate losses\n",
    "losses = []\n"
   ]
  },
  {
   "cell_type": "markdown",
   "metadata": {},
   "source": [
    "<div class=\"alert alert-block alert-success\"> \n",
    "\n",
    "3. Exponentialfunktion zur Basis 2 und Sigmoid-Funktion\n",
    "\n",
    "Die Sigmoind-Funktion $f_{sig}$ ist gegeben durch\n",
    "$$\n",
    "f_{sig} = \\frac{1}{1+e^{-x}}\\, .\n",
    "$$\n",
    "\n",
    "Die Exponentialfunktion zur Basis 2 $f_{2}$ ist gegeben durch\n",
    "$$\n",
    "f_{2} (x) = \\frac{1}{1+ 2^{-x}}\\, .\n",
    "$$\n",
    "Eigenschaften zeigen sich in den folgenden Graphen. Man beachte Ähnlichkeiten und Unterschiede der Graphen."
   ]
  },
  {
   "cell_type": "code",
   "execution_count": 51,
   "metadata": {},
   "outputs": [
    {
     "data": {
      "image/png": "[encoded data removed]",
      "text/plain": [
       "<Figure size 432x288 with 1 Axes>"
      ]
     },
     "metadata": {
      "needs_background": "light"
     },
     "output_type": "display_data"
    }
   ],
   "source": [
    "# Sigmoid-Funktion\n",
    "def f_sig(z):\n",
    "    z = 1/(1+np.exp(-z))\n",
    "    return z\n",
    "\n",
    "# Exponentialfunktion zur Basis 2\n",
    "def f_2(z):\n",
    "    z = 1/(1+2**(-z))\n",
    "    return z\n",
    "\n",
    "X = np.linspace(-3, 3, 200)\n",
    "Y = f_sig(X)\n",
    "Z = f_2(X)\n",
    "plt.plot(X, Y, linewidth=2, label=\"f_sig\")\n",
    "plt.plot(X, Z, linewidth=2, label=\"f_2\")\n",
    "plt.legend()\n",
    "plt.show()"
   ]
  },
  {
   "cell_type": "markdown",
   "metadata": {},
   "source": [
    "<div class=\"alert alert-block alert-success\"> \n",
    "\n",
    "4. Hier werden Funktionen zur Anwendung des Forward-Algorithmus und des Backward-Algorithmus definiert."
   ]
  },
  {
   "cell_type": "code",
   "execution_count": 52,
   "metadata": {},
   "outputs": [],
   "source": [
    "# Forward Algorithmus mit Exponentialfunktion zur Basis 2\n",
    "def forward_2(w1,w2,x):\n",
    "    sigma_1 = np.dot(W1,x) # Anwendung der ersten Gewinnmatrix auf den Input Layer --> Erster Schritt des Hidden Layer\n",
    "    a1 = f_2(sigma_1)  # Anwendung der Funktion f im Hidden Layer --> manchmal als x_21 bezeichnet\n",
    "    sigma_2 = np.dot(W2,a1)# Anwendung der zweiten Gewinnmatrix auf den Hidden Layer --> Erster Schritt des Output Layer\n",
    "    a2 = f_2(sigma_2)  # Anwendung der Funktion f im Output Layer --> manchmal als x_31 bezeichnet\n",
    "    return sigma_1,a1,sigma_2,a2 # Ausgabe der Parameter\n",
    "\n",
    "# Backward Algorithmus\n",
    "def back_2(m,w1,w2,z1,a1,z2,a2,y):\n",
    "    dz2 = a2-y\n",
    "    dw2 = np.dot(dz2,a1.T)/m\n",
    "    dz1 = np.dot(w2.T,dz2) * a1*(1-a1)\n",
    "    dw1 = np.dot(dz1,x.T)/m\n",
    "    dw1 = np.reshape(dw1,w1.shape)\n",
    "    dw2 = np.reshape(dw2,w2.shape)    \n",
    "    return dz2,dw2,dz1,dw1"
   ]
  },
  {
   "cell_type": "code",
   "execution_count": 53,
   "metadata": {},
   "outputs": [],
   "source": [
    "# Forward Algorithmus mit Sigmoidfunktion\n",
    "def forward_sig(w1,w2,x):\n",
    "    sigma_1 = np.dot(W1,x) # Anwendung der ersten Gewinnmatrix auf den Input Layer --> Erster Schritt des Hidden Layer\n",
    "    a1 = f_sig(sigma_1)  # Anwendung der Funktion f im Hidden Layer --> manchmal als x_21 bezeichnet\n",
    "    sigma_2 = np.dot(W2,a1)# Anwendung der zweiten Gewinnmatrix auf den Hidden Layer --> Erster Schritt des Output Layer\n",
    "    a2 = f_sig(sigma_2)  # Anwendung der Funktion f im Output Layer --> manchmal als x_31 bezeichnet\n",
    "    return sigma_1,a1,sigma_2,a2 # Ausgabe der Parameter\n",
    "\n",
    "# Backward Algorithmus\n",
    "def back_sig(m,w1,w2,z1,a1,z2,a2,y):\n",
    "    dz2 = a2-y\n",
    "    dw2 = np.dot(dz2,a1.T)/m\n",
    "    dz1 = np.dot(w2.T,dz2) * a1*(1-a1)\n",
    "    dw1 = np.dot(dz1,x.T)/m\n",
    "    dw1 = np.reshape(dw1,w1.shape)\n",
    "    dw2 = np.reshape(dw2,w2.shape)    \n",
    "    return dz2,dw2,dz1,dw1"
   ]
  },
  {
   "cell_type": "markdown",
   "metadata": {},
   "source": [
    "<div class=\"alert alert-block alert-success\"> \n",
    "\n",
    "5. ### Entropie\n",
    "Hier wird die Entwicklung der Entropie in Verbindung mit mehrfachen Durchlaufs durch das neuronale Netz dargestellt.\n",
    "\n",
    "Die Entropie zeigt die \"Aussagefähigkeit\" der Klassifikation an, oder den \"Verlust\" an Information. Ihre Ausgabe ist eine Wahrscheinlichkeit $p \\in [0;1]$ dafür, dass eine korrekte Aussage gemacht wird. Die Entropie steigt, wenn die vorhergesagte Wahrscheinlichkeit vom aktuellen Wert abweicht/divergiert. Da hier der Logarithmus Anwendung findet, ist das Ergebnis besser, je näher es an 0 liegt.\n",
    "\n",
    "Das NN mit $x$-facher Wiederholung durchlaufen gelassen.\n",
    "\n",
    "Zunächst mit der Exponentialfunktion zur Basis 2, dann mit der Sigmoid-Funktion."
   ]
  },
  {
   "cell_type": "code",
   "execution_count": 59,
   "metadata": {},
   "outputs": [
    {
     "data": {
      "text/plain": [
       "Text(0, 0.5, 'Verlust value')"
      ]
     },
     "execution_count": 59,
     "metadata": {},
     "output_type": "execute_result"
    },
    {
     "data": {
      "image/png": "[encoded data removed]",
      "text/plain": [
       "<Figure size 432x288 with 1 Axes>"
      ]
     },
     "metadata": {
      "needs_background": "light"
     },
     "output_type": "display_data"
    }
   ],
   "source": [
    "iterations = 100000\n",
    "for i in range(iterations):\n",
    "    z1,a1,z2,a2 = forward_2(W1,W2,x)\n",
    "    loss = -(1/m)*np.sum(a_ist*np.log2(a2)+(1-a_ist)*np.log2(1-a2)) #Entropie\n",
    "    losses.append(loss)\n",
    "    da2,dw2,dz1,dw1 = back_2(m,W1,W2,z1,a1,z2,a2,a_ist)\n",
    "    W2 = W2-alpha*dw2\n",
    "    W1 = W1-alpha*dw1\n",
    "\n",
    "# We plot losses to see how our network is doing\n",
    "plt.plot(losses)\n",
    "plt.xlabel(\"Epoche\")\n",
    "plt.ylabel(\"Verlust value\")"
   ]
  },
  {
   "cell_type": "code",
   "execution_count": 60,
   "metadata": {},
   "outputs": [
    {
     "data": {
      "text/plain": [
       "Text(0, 0.5, 'Verlust value')"
      ]
     },
     "execution_count": 60,
     "metadata": {},
     "output_type": "execute_result"
    },
    {
     "data": {
      "image/png": "[encoded data removed]",
      "text/plain": [
       "<Figure size 432x288 with 1 Axes>"
      ]
     },
     "metadata": {
      "needs_background": "light"
     },
     "output_type": "display_data"
    }
   ],
   "source": [
    "iterations = 100000\n",
    "for i in range(iterations):\n",
    "    z1,a1,z2,a2 = forward_sig(W1,W2,x)\n",
    "    loss = -(1/m)*np.sum(a_ist*np.log(a2)+(1-a_ist)*np.log(1-a2)) #Entropie\n",
    "    losses.append(loss)\n",
    "    da2,dw2,dz1,dw1 = back_sig(m,W1,W2,z1,a1,z2,a2,a_ist)\n",
    "    W2 = W2-alpha*dw2\n",
    "    W1 = W1-alpha*dw1\n",
    "\n",
    "# We plot losses to see how our network is doing\n",
    "plt.plot(losses)\n",
    "plt.xlabel(\"Epoche\")\n",
    "plt.ylabel(\"Verlust value\")"
   ]
  },
  {
   "cell_type": "markdown",
   "metadata": {},
   "source": [
    "<div class=\"alert alert-block alert-success\"> \n",
    "\n",
    "6. Hier wird eine Funktion zur Vorhersage definiert."
   ]
  },
  {
   "cell_type": "code",
   "execution_count": 61,
   "metadata": {},
   "outputs": [],
   "source": [
    "def predict(W1,W2,input):\n",
    "    z1,a1,z2,a2 = forward_2(W1,W2,test) # Hier im Fall der Potenzfunktion\n",
    "    #z1,a1,z2,a2 = forward_sig(W1,W2,test) # Hier im Fall der Sigmoidfunktion\n",
    "    a2 = np.squeeze(a2)\n",
    "    if a2>=0.5:\n",
    "        print(\"Beim Input\", [i[0] for i in input], \"ist die Ausgabe gleich 1\")# ['{:.2f}'.format(i) for i in x])\n",
    "    else:\n",
    "        print(\"Beim Input\", [i[0] for i in input], \"ist die Ausgabe gleich 0\")"
   ]
  },
  {
   "cell_type": "markdown",
   "metadata": {},
   "source": [
    "<div class=\"alert alert-block alert-success\"> \n",
    "\n",
    "7. Diese Funktion findet jetzt Anwendung."
   ]
  },
  {
   "cell_type": "code",
   "execution_count": 62,
   "metadata": {},
   "outputs": [
    {
     "name": "stdout",
     "output_type": "stream",
     "text": [
      "Beim Input [1, 0] ist die Ausgabe gleich 1\n",
      "Beim Input [0, 0] ist die Ausgabe gleich 0\n",
      "Beim Input [0, 1] ist die Ausgabe gleich 1\n",
      "Beim Input [1, 1] ist die Ausgabe gleich 1\n"
     ]
    }
   ],
   "source": [
    "test = np.array([[1],[0]])\n",
    "predict(W1,W2,test)\n",
    "test = np.array([[0],[0]])\n",
    "predict(W1,W2,test)\n",
    "test = np.array([[0],[1]])\n",
    "predict(W1,W2,test)\n",
    "test = np.array([[1],[1]])\n",
    "predict(W1,W2,test)"
   ]
  },
  {
   "cell_type": "markdown",
   "metadata": {},
   "source": [
    "<div class=\"alert alert-block alert-success\"> \n",
    "$\\Box$"
   ]
  },
  {
   "cell_type": "markdown",
   "metadata": {},
   "source": [
    "<div class=\"alert alert-block alert-danger\">\n",
    "    \n",
    "# Aktivierungsfunktionen"
   ]
  },
  {
   "cell_type": "markdown",
   "metadata": {},
   "source": [
    "<div class=\"alert alert-block alert-danger\">\n",
    "    \n",
    "### Hier folgen Definitionen und graphische Darstellungen verschiedener (nicht differenzierbarer) Aktivierungsfunktionen.\n",
    "\n",
    "$$f_{bip}(x) = \\left\\{ \\begin{array}{ll} -1 & \\mbox{ für } x<0\\, , \\\\ 1 & \\mbox{ für } x\\geq 0\\, ,\n",
    "\\end{array}\\right.$$\n",
    "\n",
    "$$f_{aus}(x) = \\left\\{ \\begin{array}{ll} 0 & \\mbox{ für } x<0\\, , \\\\ 1 & \\mbox{ für } x\\geq 0\\, ,\n",
    "\\end{array}\\right.$$\n",
    "\n",
    "$$f_{rec}(x) = \\left\\{ \\begin{array}{ll} 0 & \\mbox{ für } x<0\\, , \\\\ x & \\mbox{ für } x\\geq 0\\, ,\n",
    "\\end{array}\\right.$$\n",
    "\n",
    "$$f_{stuf}(x) = \\left\\{ \\begin{array}{ll} 0 & \\mbox{ für } x<1\\, , \\\\ 1 & \\mbox{ für } x\\geq 1\\, .\n",
    "\\end{array}\\right.$$\n",
    "\n",
    "Zu bedenken ist hier, dass diese Aktivierungsfunktionen nicht überall differenzierbar sind. Das wird unten geändert."
   ]
  },
  {
   "cell_type": "markdown",
   "metadata": {},
   "source": [
    "<div class=\"alert alert-block alert-warning\"> \n",
    "\n",
    "### Aufgabe 17\n",
    "Definiere die Funktionen und Python und zeichne Graphen von ihnen."
   ]
  },
  {
   "cell_type": "markdown",
   "metadata": {},
   "source": [
    "<div class=\"alert alert-block alert-success\"> \n",
    "\n",
    "##### Mögliche Lösung von Aufgabe 17"
   ]
  },
  {
   "cell_type": "code",
   "execution_count": 63,
   "metadata": {},
   "outputs": [
    {
     "data": {
      "image/png": "[encoded data removed]",
      "text/plain": [
       "<Figure size 432x288 with 1 Axes>"
      ]
     },
     "metadata": {
      "needs_background": "light"
     },
     "output_type": "display_data"
    }
   ],
   "source": [
    "import numpy as np\n",
    "import scipy as sp\n",
    "import matplotlib as mpl\n",
    "import matplotlib.pyplot as plt\n",
    "import scipy.misc\n",
    "import scipy.integrate\n",
    "import sympy as s\n",
    "s.init_printing()\n",
    "x=s.symbols('x')\n",
    "def f(x):\n",
    "    return np.sin(x) #x**3 - 10*np.sin(x) - 4\n",
    "def df(x):\n",
    "    return sp.misc.derivative(f, x)\n",
    "def ddf(x):\n",
    "    return sp.misc.derivative(df, x)\n",
    "\n",
    "# Bipolare Funktion\n",
    "def f_bip(x):\n",
    "    if x < 0:\n",
    "        return -1\n",
    "    else:\n",
    "        return 1\n",
    "\n",
    "# Ausgabefunktion für Zählung\n",
    "def f_aus(x):\n",
    "    if x < 0:\n",
    "        return 0\n",
    "    else:\n",
    "        return 1\n",
    "\n",
    "# Verseitzte Stunfe\n",
    "def f_stuf(x):\n",
    "    if x < 1:\n",
    "        return 0\n",
    "    else:\n",
    "        return 1\n",
    "\n",
    "# Rectifier\n",
    "def f_rec(x):\n",
    "    if x < 0:\n",
    "        return 0\n",
    "    else:\n",
    "        return x\n",
    "\n",
    "@np.vectorize\n",
    "def F(x):\n",
    "    return sp.integrate.quad(f, 0, x)[0]  \n",
    "X = np.linspace(-3, 3, 200)\n",
    "Y = f(X)\n",
    "Y1 = df(X)\n",
    "Y2 = F(X)\n",
    "Y3 = ddf(X)\n",
    "# Diese Funktionen müssen an genau vorgegebenen Werten berechnet werden.\n",
    "# Mit diesen Werten werden dann die Punkte definiert.\n",
    "# Der Graph wird analog (s.u.) graphisch dargestellt.\n",
    "Y4=[f_bip(i) for i in X]\n",
    "Y5=[f_aus(i) for i in X]\n",
    "Y6=[f_rec(i) for i in X]\n",
    "Y7=[f_stuf(i) for i in X]\n",
    "\n",
    "#Jetzt folgen Graphen mit obigen Funktionen und Punkten\n",
    "plt.plot(X, Y4, linewidth=2, linestyle=\"dashed\", label=\"f_bip\")\n",
    "plt.plot(X, Y5, linewidth=2, linestyle=\"dashed\", label=\"f_aus\")\n",
    "plt.plot(X, Y6, linewidth=2, linestyle=\"dashed\", label=\"f_rec\")\n",
    "plt.plot(X, Y7, linewidth=2, linestyle=\"dashed\", label=\"f_rec\")\n",
    "plt.legend()\n",
    "plt.show()\n",
    "#print(df(1))\n",
    "#print(s.limit(s.exp(x),x,oo))\n",
    "#print(s.limit(1/x,x,0))"
   ]
  },
  {
   "cell_type": "markdown",
   "metadata": {},
   "source": [
    "<div class=\"alert alert-block alert-success\"> $\\Box$"
   ]
  },
  {
   "cell_type": "markdown",
   "metadata": {},
   "source": [
    "<div class=\"alert alert-block alert-danger\">\n",
    "    \n",
    "### Hier folgen Definitionen und graphische Darstellungen verschiedener (differenzierbarer) Aktivierungsfunktionen."
   ]
  },
  {
   "cell_type": "markdown",
   "metadata": {},
   "source": [
    "<div class=\"alert alert-block alert-danger\">\n",
    "\n",
    "### 1. Sigmoid-Funktion\n",
    "\n",
    "Die Aktivierungsfunktion $f$ ist im Folgenden gegeben durch die $Sigmoid-Funktion$:\n",
    "$$\n",
    "f_{sig} (x) = \\frac{1}{1+ e^{-x}}\\, .\n",
    "$$"
   ]
  },
  {
   "cell_type": "markdown",
   "metadata": {},
   "source": [
    "<div class=\"alert alert-block alert-warning\"> \n",
    "\n",
    "### Aufgabe 18\n",
    "Untersuche die Sigmoid-Funktion an einem Graphen:\n",
    "\n",
    "a) Bestimme dabei auch die Grenzwerte $\\displaystyle \\lim_{x\\to \\pm \\infty} f_{sig} (x)$.\n",
    "\n",
    "b) Untersuche die Funktion auf Extrempunkte und Wendepunkte.\n",
    "\n",
    "c) Zeige, dass die Ableitung der Sigmoid-Funktion sich in die folgende Form umformen lässt:\n",
    "$$\n",
    "\\left(f_{sig} (x)\\right)' = f_{sig} (x) \\cdot \\left(1- f_{sig} (x)\\right)\\, .\n",
    "$$"
   ]
  },
  {
   "cell_type": "markdown",
   "metadata": {},
   "source": [
    "<div class=\"alert alert-block alert-success\"> \n",
    "\n",
    "##### Mögliche Lösung von Aufgabe 18"
   ]
  },
  {
   "cell_type": "code",
   "execution_count": 64,
   "metadata": {},
   "outputs": [
    {
     "data": {
      "image/png": "[encoded data removed]",
      "text/plain": [
       "<Figure size 432x288 with 1 Axes>"
      ]
     },
     "metadata": {
      "needs_background": "light"
     },
     "output_type": "display_data"
    },
    {
     "name": "stdout",
     "output_type": "stream",
     "text": [
      "1\n",
      "[]\n",
      "[0]\n",
      "[-0.405465108108164]\n",
      "[ 5.43169630e-03  5.51463193e-03  5.59603411e-03  5.67569042e-03\n",
      "  5.75337809e-03  5.82886385e-03  5.90190379e-03  5.97224327e-03\n",
      "  6.03961691e-03  6.10374851e-03  6.16435111e-03  6.22112705e-03\n",
      "  6.27376806e-03  6.32195542e-03  6.36536020e-03  6.40364351e-03\n",
      "  6.43645683e-03  6.46344244e-03  6.48423384e-03  6.49845633e-03\n",
      "  6.50572760e-03  6.50565847e-03  6.49785363e-03  6.48191252e-03\n",
      "  6.45743032e-03  6.42399897e-03  6.38120831e-03  6.32864738e-03\n",
      "  6.26590570e-03  6.19257474e-03  6.10824946e-03  6.01252996e-03\n",
      "  5.90502320e-03  5.78534485e-03  5.65312120e-03  5.50799122e-03\n",
      "  5.34960861e-03  5.17764404e-03  4.99178736e-03  4.79174996e-03\n",
      "  4.57726717e-03  4.34810064e-03  4.10404085e-03  3.84490963e-03\n",
      "  3.57056261e-03  3.28089179e-03  2.97582801e-03  2.65534340e-03\n",
      "  2.31945383e-03  1.96822121e-03  1.60175580e-03  1.22021833e-03\n",
      "  8.23822040e-04  4.12834561e-04 -1.24203724e-05 -4.51561395e-04\n",
      " -9.04148197e-04 -1.36968044e-03 -1.84759692e-03 -2.33727501e-03\n",
      " -2.83803040e-03 -3.34911709e-03 -3.86972779e-03 -4.39899463e-03\n",
      " -4.93599017e-03 -5.47972881e-03 -6.02916865e-03 -6.58321356e-03\n",
      " -7.14071579e-03 -7.70047887e-03 -8.26126096e-03 -8.82177845e-03\n",
      " -9.38071012e-03 -9.93670145e-03 -1.04883694e-02 -1.10343076e-02\n",
      " -1.15730914e-02 -1.21032837e-02 -1.26234412e-02 -1.31321195e-02\n",
      " -1.36278805e-02 -1.41092981e-02 -1.45749649e-02 -1.50234988e-02\n",
      " -1.54535494e-02 -1.58638049e-02 -1.62529985e-02 -1.66199143e-02\n",
      " -1.69633941e-02 -1.72823430e-02 -1.75757355e-02 -1.78426203e-02\n",
      " -1.80821260e-02 -1.82934656e-02 -1.84759405e-02 -1.86289447e-02\n",
      " -1.87519680e-02 -1.88445987e-02 -1.89065261e-02 -1.89375419e-02\n",
      " -1.89375419e-02 -1.89065261e-02 -1.88445987e-02 -1.87519680e-02\n",
      " -1.86289447e-02 -1.84759405e-02 -1.82934656e-02 -1.80821260e-02\n",
      " -1.78426203e-02 -1.75757355e-02 -1.72823430e-02 -1.69633941e-02\n",
      " -1.66199143e-02 -1.62529985e-02 -1.58638049e-02 -1.54535494e-02\n",
      " -1.50234988e-02 -1.45749649e-02 -1.41092981e-02 -1.36278805e-02\n",
      " -1.31321195e-02 -1.26234412e-02 -1.21032837e-02 -1.15730914e-02\n",
      " -1.10343076e-02 -1.04883694e-02 -9.93670145e-03 -9.38071012e-03\n",
      " -8.82177845e-03 -8.26126096e-03 -7.70047887e-03 -7.14071579e-03\n",
      " -6.58321356e-03 -6.02916865e-03 -5.47972881e-03 -4.93599017e-03\n",
      " -4.39899463e-03 -3.86972779e-03 -3.34911709e-03 -2.83803040e-03\n",
      " -2.33727501e-03 -1.84759692e-03 -1.36968044e-03 -9.04148197e-04\n",
      " -4.51561395e-04 -1.24203724e-05  4.12834561e-04  8.23822040e-04\n",
      "  1.22021833e-03  1.60175580e-03  1.96822121e-03  2.31945383e-03\n",
      "  2.65534340e-03  2.97582801e-03  3.28089179e-03  3.57056261e-03\n",
      "  3.84490963e-03  4.10404085e-03  4.34810064e-03  4.57726717e-03\n",
      "  4.79174996e-03  4.99178736e-03  5.17764404e-03  5.34960861e-03\n",
      "  5.50799122e-03  5.65312120e-03  5.78534485e-03  5.90502320e-03\n",
      "  6.01252996e-03  6.10824946e-03  6.19257474e-03  6.26590570e-03\n",
      "  6.32864738e-03  6.38120831e-03  6.42399897e-03  6.45743032e-03\n",
      "  6.48191252e-03  6.49785363e-03  6.50565847e-03  6.50572760e-03\n",
      "  6.49845633e-03  6.48423384e-03  6.46344244e-03  6.43645683e-03\n",
      "  6.40364351e-03  6.36536020e-03  6.32195542e-03  6.27376806e-03\n",
      "  6.22112705e-03  6.16435111e-03  6.10374851e-03  6.03961691e-03\n",
      "  5.97224327e-03  5.90190379e-03  5.82886385e-03  5.75337809e-03\n",
      "  5.67569042e-03  5.59603411e-03  5.51463193e-03  5.43169630e-03]\n",
      "-0.006213394252540694\n"
     ]
    }
   ],
   "source": [
    "import numpy as np\n",
    "import scipy as sp\n",
    "import matplotlib as mpl\n",
    "import matplotlib.pyplot as plt\n",
    "import scipy.misc\n",
    "import scipy.integrate\n",
    "import sympy as s\n",
    "def f_sig(x):\n",
    "    return 1/(1+np.exp(-x))\n",
    "def df_sig(x):\n",
    "    return sp.misc.derivative(f_sig, x)\n",
    "def ddf_sig(x):\n",
    "    return sp.misc.derivative(df_sig, x)\n",
    "#@np.vectorize # Dieser Befehl ist notwendig für das Integral.\n",
    "#def F_sig(x):\n",
    "#    return sp.integrate.quad(f_sig, 0, x)[0]  \n",
    "X = np.linspace(-3, 3, 200)\n",
    "Y = f_sig(X)\n",
    "Y1 = df_sig(X)\n",
    "#Y2 = F_sig(X)\n",
    "Y3 = ddf_sig(X)\n",
    "plt.plot(X, Y, linewidth=2, label=\"f_sig\")\n",
    "plt.plot(X, Y1, linewidth=2, linestyle=\"dashed\", label=\"f'_sig\")\n",
    "plt.plot(X, Y3, linewidth=2, linestyle=\"dashed\", label=\"f''_sig\")\n",
    "plt.legend()\n",
    "plt.show()\n",
    "\n",
    "# Hier folgt Teil a). \n",
    "#Dabei ist darauf zu achten, dass dies unter sympy gemacht wird, um einen Limes berechnen zu können.\n",
    "#Daher sind die Funktionen anders zu definieren.\n",
    "\n",
    "print(s.limit(1/(1+s.exp(-x)),x,s.oo))\n",
    "\n",
    "# Hier folgt Teil b).\n",
    "# Dabei muss es immer nach dem Typ \"=0\" geschrieben werden, d.h. das Ergebnis von der Funktion subtrahiert werden.\n",
    "# Außerdem ist zu berücksichtigen, dass alles mit \"s.\" zu notieren ist, da auf sympy zugegriffen wird.\n",
    "print(s.solve(s.diff(1/(1+s.exp(-x)),x,1),x))\n",
    "print(s.solve(s.diff(1/(1+s.exp(-x)),x,2),x))\n",
    "print(s.solve(1/(1+s.exp(-x))-0.4,x))\n",
    "\n",
    "\n",
    "# Hier folgt Teil c). Da die Funktionen über eine Liste linspace definiert sind, kann es\n",
    "# nur über konkrete Werte gemacht werden.\n",
    "print(df_sig(X)-f_sig(X)*(1-f_sig(X)))\n",
    "print(df_sig(1)-f_sig(1)*(1-f_sig(1)))\n",
    "\n",
    "#print(ddf_sig(X))"
   ]
  },
  {
   "cell_type": "markdown",
   "metadata": {},
   "source": [
    "<div class=\"alert alert-block alert-danger\">\n",
    "    \n",
    "### 2. Tangens hyperbolicus\n",
    "\n",
    "Der $Tangens$ $hyperbolicus$ $\\tanh$ ist definiert durch\n",
    "$$\n",
    "\\tanh (x) = \\frac{e^x-e^{-x}}{e^x+e^{-x}}\\, .\n",
    "$$"
   ]
  },
  {
   "cell_type": "markdown",
   "metadata": {},
   "source": [
    "<div class=\"alert alert-block alert-warning\"> \n",
    "\n",
    "### Aufgabe 19\n",
    "\n",
    "a)\n",
    "Untersuche Eigenschaften der $\\tanh$-Funktion analog zu den Teilen a) und b) der Aufgabe zur Sigmoid-Funktion.\n",
    "\n",
    "b)\n",
    "Vergleichen Sie die Eigenschaften des Tangens hyperbolicus und der Sigmoid-Funktion. Gibt es Vorteile der einen Funktion gegenüber der andern?"
   ]
  },
  {
   "cell_type": "markdown",
   "metadata": {},
   "source": [
    "<div class=\"alert alert-block alert-success\"> \n",
    "\n",
    "##### Mögliche Lösung von Aufgabe 19"
   ]
  },
  {
   "cell_type": "code",
   "execution_count": 65,
   "metadata": {},
   "outputs": [
    {
     "data": {
      "image/png": "[encoded data removed]",
      "text/plain": [
       "<Figure size 432x288 with 1 Axes>"
      ]
     },
     "metadata": {
      "needs_background": "light"
     },
     "output_type": "display_data"
    },
    {
     "name": "stdout",
     "output_type": "stream",
     "text": [
      "1\n",
      "1\n",
      "[(zoo, 1), (x, -1), (x, 0)] x\n",
      "[0, I*pi]\n"
     ]
    }
   ],
   "source": [
    "import numpy as np\n",
    "import scipy as sp\n",
    "import matplotlib as mpl\n",
    "import matplotlib.pyplot as plt\n",
    "import scipy.misc\n",
    "import scipy.integrate\n",
    "import sympy as s\n",
    "\n",
    "# Hier werden die Funktion und ihre ersten beiden Ableitungen definiert.\n",
    "# Hier ist zu beachten, dass die Ableitungen ziemlich ungenau bestimmt sind, was sich in den\n",
    "# Graphen zeigt.\n",
    "def f_tanh(x):\n",
    "    return np.tanh(x)\n",
    "def df_tanh(x):\n",
    "    return sp.misc.derivative(f_tanh, x)\n",
    "def ddf_tanh(x):\n",
    "    return sp.misc.derivative(df_tanh, x)\n",
    "#@np.vectorize # Dieser Befehl ist notwendig für das Integral.\n",
    "#def F_sig(x):\n",
    "#    return sp.integrate.quad(f_sig, 0, x)[0]  \n",
    "X = np.linspace(-3, 3, 200)\n",
    "Y = f_tanh(X)\n",
    "Y1 = df_tanh(X)\n",
    "#Y2 = F_tanh(X)\n",
    "Y3 = ddf_tanh(X)\n",
    "plt.plot(X, Y, linewidth=2, label=\"f_tanh\")\n",
    "plt.plot(X, Y1, linewidth=2, linestyle=\"dashed\", label=\"f'_tanh\")\n",
    "plt.plot(X, Y3, linewidth=2, linestyle=\"dashed\", label=\"f''_tanh\")\n",
    "#plt.plot(X, Y2, linewidth=2, linestyle=\"dotted\", label=\"F_tanh\")\n",
    "plt.legend()\n",
    "plt.show()\n",
    "\n",
    "# Hier folgt Teil a). \n",
    "#Dabei ist darauf zu achten, dass dies unter sympy gemacht wird, um einen Limes berechnen zu können.\n",
    "#Daher sind die Funktionen anders zu definieren.\n",
    "\n",
    "print(s.limit(s.tanh(x),x,s.oo))\n",
    "print(s.limit(s.tanh(x),x,s.oo))\n",
    "\n",
    "# Hier folgt Teil b).\n",
    "# Dabei muss es immer nach dem Typ \"=0\" geschrieben werden, d.h. das Ergebnis von der Funktion subtrahiert werden.\n",
    "# Außerdem ist zu berücksichtigen, dass alles mit \"s.\" zu notieren ist, da auf sympy zugegriffen wird.\n",
    "print(s.solve(s.diff(s.tanh(x)),x,1),x)\n",
    "print(s.solve(s.diff(s.tanh(x),x,2),x))\n",
    "#print(s.solve(tanh(x)-0.4,x))\n",
    "#print(ddf_tanh(X))"
   ]
  },
  {
   "cell_type": "markdown",
   "metadata": {},
   "source": [
    "<div class=\"alert alert-block alert-success\"> \n",
    "$\\Box$"
   ]
  },
  {
   "cell_type": "markdown",
   "metadata": {},
   "source": [
    "<div class=\"alert alert-block alert-danger\">\n",
    "\n",
    "### 3. Exponentialfunktion zur Basis 2\n",
    "\n",
    "Die Aktivierungsfunktion ist im Folgenden gegeben durch die Exponentialfunktion zur Basis $2$:\n",
    "$$\n",
    "f_{2} (x) = \\frac{1}{1+ 2^{-x}}\\, .\n",
    "$$"
   ]
  },
  {
   "cell_type": "markdown",
   "metadata": {},
   "source": [
    "<div class=\"alert alert-block alert-warning\"> \n",
    "\n",
    "### Aufgabe 20\n",
    "\n",
    "a)\n",
    "Untersuche Eigenschaften der $f_2$-Funktion analog zu den Teilen a) und b) der Aufgabe zur Sigmoid-Funktion.\n",
    "\n",
    "b)\n",
    "Vergleiche die Eigenschaften von $f_2$ und der Sigmoid-Funktion. Gibt es Vorteile der einen Funktion gegenüber der andern?"
   ]
  },
  {
   "cell_type": "markdown",
   "metadata": {},
   "source": [
    "<div class=\"alert alert-block alert-success\"> \n",
    "\n",
    "##### Mögliche Lösung von Aufgabe 20"
   ]
  },
  {
   "cell_type": "code",
   "execution_count": 66,
   "metadata": {},
   "outputs": [
    {
     "data": {
      "image/png": "[encoded data removed]",
      "text/plain": [
       "<Figure size 432x288 with 1 Axes>"
      ]
     },
     "metadata": {
      "needs_background": "light"
     },
     "output_type": "display_data"
    }
   ],
   "source": [
    "import numpy as np\n",
    "def f_2(x):\n",
    "    return 1/(1+2**(-x))\n",
    "X = np.linspace(-3, 3, 200)\n",
    "Y = f_2(X)\n",
    "plt.plot(X, Y, linewidth=2, label=\"f_2\")\n",
    "plt.legend()\n",
    "plt.show()"
   ]
  },
  {
   "cell_type": "markdown",
   "metadata": {},
   "source": [
    "<div class=\"alert alert-block alert-success\"> \n",
    "$\\Box$"
   ]
  }
 ],
 "metadata": {
  "kernelspec": {
   "display_name": "Python 3",
   "language": "python",
   "name": "python3"
  },
  "language_info": {
   "codemirror_mode": {
    "name": "ipython",
    "version": 3
   },
   "file_extension": ".py",
   "mimetype": "text/x-python",
   "name": "python",
   "nbconvert_exporter": "python",
   "pygments_lexer": "ipython3",
   "version": "3.8.8"
  }
 },
 "nbformat": 4,
 "nbformat_minor": 2
}
